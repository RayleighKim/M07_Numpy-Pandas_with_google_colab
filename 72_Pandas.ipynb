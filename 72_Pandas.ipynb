{
  "nbformat": 4,
  "nbformat_minor": 0,
  "metadata": {
    "colab": {
      "name": "72.Pandas.ipynb",
      "version": "0.3.2",
      "provenance": [],
      "collapsed_sections": [
        "DFijIAllYnVQ",
        "Bie5qwmkYnVT",
        "-RYoYWk-YnVc",
        "jPLYmNHQYnVy",
        "hUWXEi1KYnV4",
        "WUSoqSxcYnV5",
        "0kW6dzBFYnWW"
      ]
    },
    "kernelspec": {
      "display_name": "Python 3",
      "language": "python",
      "name": "python3"
    }
  },
  "cells": [
    {
      "cell_type": "markdown",
      "metadata": {
        "id": "view-in-github",
        "colab_type": "text"
      },
      "source": [
        "[View in Colaboratory](https://colab.research.google.com/github/RayleighKim/M07_Numpy-Pandas_with_google_colab/blob/master/72_Pandas.ipynb)"
      ]
    },
    {
      "metadata": {
        "id": "w8C_iSSpYnVO",
        "colab_type": "text"
      },
      "cell_type": "markdown",
      "source": [
        "# 72 Pandas\n",
        "\n",
        "Editor : Rayleigh Kim\n",
        "\n",
        "email : rayleigh@dplus.company\n",
        "\n",
        "thanks to 이숙번 님\n",
        "\n",
        "이 노트북의 90%는 숙번님께서 제작하셨습니다.\n",
        "\n",
        "\n",
        "#### 주의 : 판다스의 모든 것을 다루지 않습니다. Machine Learning 또는 Deep Learning을 공부하기 위해 최소한 알아야 하는 범위만을 다룹니다.\n",
        "\n",
        "\n",
        "### 파이썬 실습시간!\n",
        "\n",
        "pandas 데이터 분석 라이브러리의 사용법을 간략하게 설명합니다.\n",
        "데이터의 로드, 파싱 및 변환을 위한 방법을 보여줍니다.\n",
        "\n",
        "#### 선행지식\n",
        "1. Python 언어 기초.\n",
        "2. Numpy 라이브러리 기초.\n",
        "3. table 구조의 데이터에 대한 이해. (엑셀 형태의 데이터)\n",
        "\n",
        "#### 실습목표\n",
        "1. csv 파일 읽는법. \n",
        "2. dataframe을 만드는 법.\n",
        "2. dataframe을 다루기.\n",
        "3. head, tail\n",
        "4. 정렬\n",
        "5. numpy array와 변환, \n",
        "6. 다양한 dataframe 연산.\n"
      ]
    },
    {
      "metadata": {
        "id": "DFijIAllYnVQ",
        "colab_type": "text"
      },
      "cell_type": "markdown",
      "source": [
        "## 00. 라이브러리 불러오기 & 데이터 업로드"
      ]
    },
    {
      "metadata": {
        "id": "0wzhP3IXYnVQ",
        "colab_type": "code",
        "colab": {}
      },
      "cell_type": "code",
      "source": [
        "import pandas as pd\n",
        "from google.colab import files"
      ],
      "execution_count": 0,
      "outputs": []
    },
    {
      "metadata": {
        "id": "RWDWpbdPY0qd",
        "colab_type": "code",
        "colab": {}
      },
      "cell_type": "code",
      "source": [
        "uploaded = files.upload() # Graduate_apply.csv를 업로드 해두자"
      ],
      "execution_count": 0,
      "outputs": []
    },
    {
      "metadata": {
        "id": "EJ4lNSv8aKCV",
        "colab_type": "code",
        "colab": {}
      },
      "cell_type": "code",
      "source": [
        "ls"
      ],
      "execution_count": 0,
      "outputs": []
    },
    {
      "metadata": {
        "id": "Bie5qwmkYnVT",
        "colab_type": "text"
      },
      "cell_type": "markdown",
      "source": [
        "## 01. Creating Data Frames"
      ]
    },
    {
      "metadata": {
        "id": "6LkPm72OYnVU",
        "colab_type": "code",
        "colab": {}
      },
      "cell_type": "code",
      "source": [
        "# Dataframes 생성\n",
        "d = {\n",
        "   'col1': ['Item0', 'Item0', 'Item1', 'Item1'],\n",
        "   'col2': ['Gold', 'Bronze', 'Gold', 'Silver'],\n",
        "   'col3': [1, 2, 3, 4]\n",
        "}\n",
        "df = pd.DataFrame(d)"
      ],
      "execution_count": 0,
      "outputs": []
    },
    {
      "metadata": {
        "id": "-QjceA2vYnVW",
        "colab_type": "code",
        "colab": {}
      },
      "cell_type": "code",
      "source": [
        "# Numpy Array => Pandas DataFrame\n",
        "import numpy as np\n",
        "\n",
        "dates = pd.date_range('20171201', periods=6)\n",
        "# DatetimeIndex(['2017-12-01', '2017-12-02', '2017-12-03', '2017-12-04',\n",
        "#                '2017-12-05', '2017-12-06'],\n",
        "#               dtype='datetime64[ns]', freq='D')\n",
        "\n",
        "df = pd.DataFrame(np.random.randn(6, 4), index=dates, columns=list('ABCD'))\n",
        "#                   A         B         C         D\n",
        "# 2013-01-01  0.469112 -0.282863 -1.509059 -1.135632\n",
        "# 2013-01-02  1.212112 -0.173215  0.119209 -1.044236\n",
        "# 2013-01-03 -0.861849 -2.104569 -0.494929  1.071804\n",
        "# 2013-01-04  0.721555 -0.706771 -1.039575  0.271860\n",
        "# 2013-01-05 -0.424972  0.567020  0.276232 -1.087401\n",
        "# 2013-01-06 -0.673690  0.113648 -1.478427  0.524988\n",
        "\n",
        "df"
      ],
      "execution_count": 0,
      "outputs": []
    },
    {
      "metadata": {
        "id": "JD8ItbgpYnVY",
        "colab_type": "code",
        "colab": {}
      },
      "cell_type": "code",
      "source": [
        "# Pandas DataFrame => Numpy Array\n",
        "np_array = df.values\n",
        "print(np_array, np_array.shape)"
      ],
      "execution_count": 0,
      "outputs": []
    },
    {
      "metadata": {
        "id": "oEKAmGsQYnVb",
        "colab_type": "code",
        "colab": {}
      },
      "cell_type": "code",
      "source": [
        "# Loading CSV files\n",
        "\n",
        "df = pd.read_csv('./Graduate_apply.csv', sep=',')\n",
        "print(df.head())\n",
        "\n",
        "df = pd.read_csv('./Graduate_apply.csv', sep=',', skipinitialspace=True)\n",
        "print(df.head())\n",
        "\n",
        "# to_csv\n",
        "df.to_csv('./resources/file.csv', header=True, index=False, encoding='utf-8')"
      ],
      "execution_count": 0,
      "outputs": []
    },
    {
      "metadata": {
        "id": "-RYoYWk-YnVc",
        "colab_type": "text"
      },
      "cell_type": "markdown",
      "source": [
        "## 02. Previewing Data"
      ]
    },
    {
      "metadata": {
        "id": "3V0T5qwfYnVd",
        "colab_type": "code",
        "colab": {}
      },
      "cell_type": "code",
      "source": [
        "# 첫 5개 행의 데이터를 보여줍니다.\n",
        "df.head()"
      ],
      "execution_count": 0,
      "outputs": []
    },
    {
      "metadata": {
        "id": "2agjyJgBYnVf",
        "colab_type": "code",
        "colab": {}
      },
      "cell_type": "code",
      "source": [
        "# 마지막 3개 행의 데이터를 보여줍니다.\n",
        "df.tail(3)"
      ],
      "execution_count": 0,
      "outputs": []
    },
    {
      "metadata": {
        "id": "EYh2NhMSYnVh",
        "colab_type": "code",
        "colab": {}
      },
      "cell_type": "code",
      "source": [
        "# 데이터 프레임 모양 확인 - (rows, cols) tuple\n",
        "df.shape"
      ],
      "execution_count": 0,
      "outputs": []
    },
    {
      "metadata": {
        "id": "YZp-NPIQYnVl",
        "colab_type": "code",
        "colab": {}
      },
      "cell_type": "code",
      "source": [
        "# 칼럼명 출력\n",
        "df.columns"
      ],
      "execution_count": 0,
      "outputs": []
    },
    {
      "metadata": {
        "id": "mJbpIbz2YnVn",
        "colab_type": "code",
        "colab": {}
      },
      "cell_type": "code",
      "source": [
        "# 각 칼럼의 데이터 타입\n",
        "df.dtypes"
      ],
      "execution_count": 0,
      "outputs": []
    },
    {
      "metadata": {
        "id": "O-a2QMLXYnVu",
        "colab_type": "code",
        "colab": {}
      },
      "cell_type": "code",
      "source": [
        "# 데이터 출력 - numpy array\n",
        "df.values"
      ],
      "execution_count": 0,
      "outputs": []
    },
    {
      "metadata": {
        "id": "8Z8rhBNBYnVw",
        "colab_type": "code",
        "colab": {}
      },
      "cell_type": "code",
      "source": [
        "# 간단한 통계 정보\n",
        "df.describe()"
      ],
      "execution_count": 0,
      "outputs": []
    },
    {
      "metadata": {
        "id": "jPLYmNHQYnVy",
        "colab_type": "text"
      },
      "cell_type": "markdown",
      "source": [
        "## 03. Sorting"
      ]
    },
    {
      "metadata": {
        "id": "XtYZ3ykzYnVz",
        "colab_type": "code",
        "colab": {}
      },
      "cell_type": "code",
      "source": [
        "# index로 정렬\n",
        "df.sort_index(axis=0, ascending=False).head()"
      ],
      "execution_count": 0,
      "outputs": []
    },
    {
      "metadata": {
        "id": "b54Sod9nYnV2",
        "colab_type": "code",
        "colab": {}
      },
      "cell_type": "code",
      "source": [
        "# 특정 컬럼의 값으로 정렬\n",
        "df.sort_values(by=['admit', 'gpa'], ascending=False).head()"
      ],
      "execution_count": 0,
      "outputs": []
    },
    {
      "metadata": {
        "id": "hUWXEi1KYnV4",
        "colab_type": "text"
      },
      "cell_type": "markdown",
      "source": [
        "### 실습"
      ]
    },
    {
      "metadata": {
        "id": "LanCge2QYnV4",
        "colab_type": "code",
        "colab": {},
        "collapsed": true
      },
      "cell_type": "code",
      "source": [
        "# pandas 라이브러리 호출\n",
        "\n",
        "# pandas read_csv 함수를 이용하여 ./resources/graduate_apply.csv 파일을 읽고, data_frame 변수에 담습니다. \n",
        "\n",
        "# data_frame의 shape를 확인합니다.\n",
        "\n",
        "# data_frame의 칼럼명과 각 칼럼의 데이터 타입을 확인합니다.\n",
        "\n",
        "# data_frame의 데이터의 첫 3행의 데이터와 마지막 3행의 데이터를 출력합니다.\n",
        "\n",
        "# data_frame의 데이터를 numpy array로 변환하여 출력합니다.\n",
        "\n",
        "# data_frame의 데이터를 'gra' 칼럼을 기준으로 오름차순으로 정렬합니다. \n"
      ],
      "execution_count": 0,
      "outputs": []
    },
    {
      "metadata": {
        "id": "WUSoqSxcYnV5",
        "colab_type": "text"
      },
      "cell_type": "markdown",
      "source": [
        "## 04. Selecting/Querying"
      ]
    },
    {
      "metadata": {
        "id": "TH8CN-tiYnV6",
        "colab_type": "code",
        "colab": {}
      },
      "cell_type": "code",
      "source": [
        "# 칼럼명으로 조회 1\n",
        "df.gre.head()"
      ],
      "execution_count": 0,
      "outputs": []
    },
    {
      "metadata": {
        "id": "udMMbPTPYnV8",
        "colab_type": "code",
        "colab": {}
      },
      "cell_type": "code",
      "source": [
        "# 칼럼명으로 조회 2\n",
        "df['gre'].head()\n",
        "df['gre'].unique()          # 중복 제거"
      ],
      "execution_count": 0,
      "outputs": []
    },
    {
      "metadata": {
        "id": "GPp0xZqzYnV9",
        "colab_type": "code",
        "colab": {}
      },
      "cell_type": "code",
      "source": [
        "# 두 개의 칼럼 동시 조회\n",
        "df[['gpa', 'gre']].head()"
      ],
      "execution_count": 0,
      "outputs": []
    },
    {
      "metadata": {
        "id": "gLL3x8wWYnV_",
        "colab_type": "code",
        "colab": {}
      },
      "cell_type": "code",
      "source": [
        "# 행번호 1 조회\n",
        "df.iloc[1]"
      ],
      "execution_count": 0,
      "outputs": []
    },
    {
      "metadata": {
        "id": "PMXMj8iNYnWB",
        "colab_type": "code",
        "colab": {}
      },
      "cell_type": "code",
      "source": [
        "# 행번호 1~3 조회\n",
        "df.iloc[1:3]"
      ],
      "execution_count": 0,
      "outputs": []
    },
    {
      "metadata": {
        "id": "3_YNehA3YnWD",
        "colab_type": "code",
        "colab": {}
      },
      "cell_type": "code",
      "source": [
        "# 0번째 row, 0번째 column\n",
        "df.iloc[0, 0]"
      ],
      "execution_count": 0,
      "outputs": []
    },
    {
      "metadata": {
        "id": "hOcph2gbYnWF",
        "colab_type": "code",
        "colab": {}
      },
      "cell_type": "code",
      "source": [
        "# 0~4 rows & 0~2 columns\n",
        "df.iloc[0:4, 0:2]"
      ],
      "execution_count": 0,
      "outputs": []
    },
    {
      "metadata": {
        "id": "0F1Hu1buYnWG",
        "colab_type": "code",
        "colab": {}
      },
      "cell_type": "code",
      "source": [
        "# Produces and array, not a single value!\n",
        "(df.gpa > 3.5).head()"
      ],
      "execution_count": 0,
      "outputs": []
    },
    {
      "metadata": {
        "id": "Kp2lBEDTYnWI",
        "colab_type": "code",
        "colab": {}
      },
      "cell_type": "code",
      "source": [
        "# Query by a single column value\n",
        "df[df.gpa > 3.0].head()"
      ],
      "execution_count": 0,
      "outputs": []
    },
    {
      "metadata": {
        "id": "QcvToTXBYnWJ",
        "colab_type": "code",
        "colab": {}
      },
      "cell_type": "code",
      "source": [
        "# Query by a single column, if it is in a list of predefined values\n",
        "df[df['rank'].isin([1, 2])].head()"
      ],
      "execution_count": 0,
      "outputs": []
    },
    {
      "metadata": {
        "id": "Vj3YKKw3YnWL",
        "colab_type": "code",
        "colab": {}
      },
      "cell_type": "code",
      "source": [
        "# A conjunction query using two columns\n",
        "df[(df['gpa'] > 3.0) & (df['rank'] == 3)].head()"
      ],
      "execution_count": 0,
      "outputs": []
    },
    {
      "metadata": {
        "id": "WNZS-UD_YnWO",
        "colab_type": "code",
        "colab": {}
      },
      "cell_type": "code",
      "source": [
        "# A disjunction query using two columns\n",
        "df[(df['gpa'] > 3.0) | (df['rank'] == 3)].head()"
      ],
      "execution_count": 0,
      "outputs": []
    },
    {
      "metadata": {
        "id": "d9YbMOjqYnWP",
        "colab_type": "code",
        "colab": {}
      },
      "cell_type": "code",
      "source": [
        "# Dataframes 생성\n",
        "d = {\n",
        "   'col1': ['Item0', 'Item0', 'Item1', 'Item1'],\n",
        "   'col2': ['Gold', 'Bronze', 'Gold', 'Silver'],\n",
        "   'col3': [1, 2, 3, 4]\n",
        "}\n",
        "df1 = pd.DataFrame(d)\n",
        "\n",
        "# 문자열이 들어있는 row만 조회\n",
        "df1[df1.col2.str.contains('ilver')]"
      ],
      "execution_count": 0,
      "outputs": []
    },
    {
      "metadata": {
        "id": "jCKFM4VHYnWS",
        "colab_type": "text"
      },
      "cell_type": "markdown",
      "source": [
        "### 실습"
      ]
    },
    {
      "metadata": {
        "id": "5q6cYIfpYnWS",
        "colab_type": "code",
        "colab": {}
      },
      "cell_type": "code",
      "source": [
        "# pandas 라이브러리 호출\n",
        "\n",
        "# pandas read_csv 함수를 이용하여 ./resources/graduate_apply.csv 파일을 읽고, data_frame 변수에 담습니다. \n",
        "\n",
        "# data_frame의 shape를 확인합니다.\n",
        "\n",
        "# data_frame의 칼럼명과 각 칼럼의 데이터 타입을 확인합니다.\n",
        "\n",
        "# data_frame의 데이터의 첫 3행의 데이터와 마지막 3행의 데이터를 출력합니다.\n",
        "\n",
        "# 'gpa' 칼럼의 데이터를 조회합니다. \n",
        "\n",
        "# unique 함수를 가지고 'rank'의 칼럼에 들어있는 데이터의 종류를 확인합니다.\n",
        "\n",
        "# 100번째 행의 데이터를 조회합니다.\n",
        "\n",
        "# rank가 0인 데이터를 조회합니다. \n",
        "\n",
        "# rank가 3, 4인 데이터의 갯수를 확인합니다.\n"
      ],
      "execution_count": 0,
      "outputs": []
    },
    {
      "metadata": {
        "id": "0kW6dzBFYnWW",
        "colab_type": "text"
      },
      "cell_type": "markdown",
      "source": [
        "## 05. Modifying Data Frames"
      ]
    },
    {
      "metadata": {
        "id": "qeUasveBYnWX",
        "colab_type": "code",
        "colab": {}
      },
      "cell_type": "code",
      "source": [
        "# 인덱스와 칼럼명으로 조회 & 수정\n",
        "df1.loc[1, 'col2'] = 'Bronze and Gold' \n",
        "df1"
      ],
      "execution_count": 0,
      "outputs": []
    },
    {
      "metadata": {
        "id": "R1-XPQlGYnWZ",
        "colab_type": "code",
        "colab": {}
      },
      "cell_type": "code",
      "source": [
        "# 행번호, 열번호로 조회 & 수정\n",
        "df1.iloc[1, 1] = 'Bronze again' \n",
        "df1"
      ],
      "execution_count": 0,
      "outputs": []
    },
    {
      "metadata": {
        "id": "yEsX-qE1YnWb",
        "colab_type": "code",
        "colab": {}
      },
      "cell_type": "code",
      "source": [
        "# Replaces the column with the array. It could be a numpy array or a simple list.\n",
        "# Could also be used to create new columns\n",
        "df1.loc[1:3, 'col3'] = ['Unknown0'] * 3\n",
        "df1"
      ],
      "execution_count": 0,
      "outputs": []
    },
    {
      "metadata": {
        "id": "T99Ze5zpYnWd",
        "colab_type": "code",
        "colab": {}
      },
      "cell_type": "code",
      "source": [
        "# Equivalent to the previous\n",
        "df1.col3 = ['Unknown1'] * len(df1) \n",
        "df1\n",
        "\n",
        "# 위와 동일하게 동작하는 코드\n",
        "# df1.loc[:, 'col3'] = ['Unknown2'] * len(df1)"
      ],
      "execution_count": 0,
      "outputs": []
    },
    {
      "metadata": {
        "id": "HgUE2xseYnWe",
        "colab_type": "code",
        "colab": {}
      },
      "cell_type": "code",
      "source": [
        "def f(x):\n",
        "    return x + ' New Column';\n",
        "\n",
        "# Uses the unary function f to create a new column based on an existing one\n",
        "df1.col4 = f(df1.col3) \n",
        "df1"
      ],
      "execution_count": 0,
      "outputs": []
    },
    {
      "metadata": {
        "id": "GTuJRwBeYnWg",
        "colab_type": "code",
        "colab": {}
      },
      "cell_type": "code",
      "source": [
        "def g(x, y):\n",
        "    return x + '_' + y\n",
        "\n",
        "# Uses the 2-arg function g to create a new column based on 2 existing columns\n",
        "df1.col4 = g(df1.col3, df1.col2)\n",
        "df1"
      ],
      "execution_count": 0,
      "outputs": []
    },
    {
      "metadata": {
        "id": "viBEuv5gYnWi",
        "colab_type": "code",
        "colab": {}
      },
      "cell_type": "code",
      "source": [
        "df = pd.read_csv('./resources/graduate_apply.csv', sep=',', skipinitialspace=True, engine='python')\n",
        "print(df.head())\n",
        "print(\"------\")\n",
        "\n",
        "# 특정 칼럼의 Dummy Variable을 얻기\n",
        "df_rank = pd.get_dummies(df['rank'])\n",
        "print(df_new.head())\n",
        "print(\"------\")\n",
        "\n",
        "# Dummy 데이터를 원래 데이터와 합치기\n",
        "df_new = pd.concat([df, df_rank], axis=1)\n",
        "print(df_new.head())\n",
        "print(\"------\")\n",
        "\n",
        "# 특정 칼럼 제거하기\n",
        "df_new.drop('rank', axis=1, inplace=True)\n",
        "print(df_new.head())\n",
        "print(\"------\")\n",
        "\n",
        "# 여러 칼럼 동시 제거하기\n",
        "df_new.drop(['gre', 'gpa'], axis=1, inplace=True)\n",
        "print(df_new.head())\n",
        "print(\"------\")\n"
      ],
      "execution_count": 0,
      "outputs": []
    },
    {
      "metadata": {
        "id": "hElggTFXYnWj",
        "colab_type": "code",
        "colab": {}
      },
      "cell_type": "code",
      "source": [
        ""
      ],
      "execution_count": 0,
      "outputs": []
    }
  ]
}