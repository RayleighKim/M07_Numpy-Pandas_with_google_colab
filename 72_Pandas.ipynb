{
  "nbformat": 4,
  "nbformat_minor": 0,
  "metadata": {
    "colab": {
      "name": "72.Pandas.ipynb",
      "version": "0.3.2",
      "provenance": [],
      "collapsed_sections": [
        "DFijIAllYnVQ",
        "Bie5qwmkYnVT",
        "-RYoYWk-YnVc",
        "jPLYmNHQYnVy",
        "WUSoqSxcYnV5",
        "0kW6dzBFYnWW",
        "hElggTFXYnWj",
        "QiqL2q7spSvA",
        "0Cq3lmVb5oj2",
        "jdMTalYEHiAi"
      ],
      "include_colab_link": true
    },
    "kernelspec": {
      "display_name": "Python 3",
      "language": "python",
      "name": "python3"
    }
  },
  "cells": [
    {
      "cell_type": "markdown",
      "metadata": {
        "id": "view-in-github",
        "colab_type": "text"
      },
      "source": [
        "[View in Colaboratory](https://colab.research.google.com/github/RayleighKim/M07_Numpy-Pandas_with_google_colab/blob/master/72_Pandas.ipynb)"
      ]
    },
    {
      "metadata": {
        "id": "w8C_iSSpYnVO",
        "colab_type": "text"
      },
      "cell_type": "markdown",
      "source": [
        "# 72 Pandas\n",
        "\n",
        "Editor : Rayleigh Kim\n",
        "\n",
        "email : rayleigh@dplus.company\n",
        "\n",
        "thanks to 이숙번 님\n",
        "\n",
        "이 노트북의 70%는 숙번님께서 제작하셨습니다.\n",
        "\n",
        "\n",
        "#### 주의 : 판다스의 모든 것을 다루지 않습니다. Machine Learning 또는 Deep Learning을 공부하기 위해 최소한 알아야 하는 범위만을 다룹니다.\n",
        "\n",
        "\n",
        "### 파이썬 실습시간!\n",
        "\n",
        "pandas 데이터 분석 라이브러리의 사용법을 간략하게 설명합니다.\n",
        "데이터의 로드, 파싱 및 변환을 위한 방법을 보여줍니다.\n",
        "\n",
        "#### 선행지식\n",
        "1. Python 언어 기초.\n",
        "2. Numpy 라이브러리 기초.\n",
        "3. table 구조의 데이터에 대한 이해. (엑셀 형태의 데이터)\n",
        "\n",
        "#### 실습목표\n",
        "1. csv 파일 읽는법. \n",
        "2. dataframe을 만드는 법.\n",
        "2. dataframe을 다루기.\n",
        "3. head, tail\n",
        "4. 정렬\n",
        "5. numpy array와 변환, \n",
        "6. 다양한 dataframe 연산.\n"
      ]
    },
    {
      "metadata": {
        "id": "DFijIAllYnVQ",
        "colab_type": "text"
      },
      "cell_type": "markdown",
      "source": [
        "## 00. 라이브러리 불러오기 & 데이터 업로드"
      ]
    },
    {
      "metadata": {
        "id": "0wzhP3IXYnVQ",
        "colab_type": "code",
        "colab": {}
      },
      "cell_type": "code",
      "source": [
        "import pandas as pd\n",
        "from google.colab import files"
      ],
      "execution_count": 0,
      "outputs": []
    },
    {
      "metadata": {
        "id": "RWDWpbdPY0qd",
        "colab_type": "code",
        "colab": {
          "resources": {
            "http://localhost:8080/nbextensions/google.colab/files.js": {
              "data": "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",
              "ok": true,
              "headers": [
                [
                  "content-type",
                  "application/javascript"
                ]
              ],
              "status": 200,
              "status_text": ""
            }
          },
          "base_uri": "https://localhost:8080/",
          "height": 93
        },
        "outputId": "942c348b-c845-425a-c54a-f5ae827c8537"
      },
      "cell_type": "code",
      "source": [
        "uploaded = files.upload() # Graduate_apply.csv를 업로드 해두자"
      ],
      "execution_count": 4,
      "outputs": [
        {
          "output_type": "display_data",
          "data": {
            "text/html": [
              "\n",
              "     <input type=\"file\" id=\"files-df27c7a5-d41e-439b-ada5-af7fb6865c3a\" name=\"files[]\" multiple disabled />\n",
              "     <output id=\"result-df27c7a5-d41e-439b-ada5-af7fb6865c3a\">\n",
              "      Upload widget is only available when the cell has been executed in the\n",
              "      current browser session. Please rerun this cell to enable.\n",
              "      </output>\n",
              "      <script src=\"/nbextensions/google.colab/files.js\"></script> "
            ],
            "text/plain": [
              "<IPython.core.display.HTML object>"
            ]
          },
          "metadata": {
            "tags": []
          }
        },
        {
          "output_type": "stream",
          "text": [
            "Saving Graduate_apply.csv to Graduate_apply.csv\n"
          ],
          "name": "stdout"
        }
      ]
    },
    {
      "metadata": {
        "id": "EJ4lNSv8aKCV",
        "colab_type": "code",
        "colab": {
          "base_uri": "https://localhost:8080/",
          "height": 52
        },
        "outputId": "c67e1c8b-3efb-4c25-aaae-3ff4b61ae383"
      },
      "cell_type": "code",
      "source": [
        "ls"
      ],
      "execution_count": 5,
      "outputs": [
        {
          "output_type": "stream",
          "text": [
            "Graduate_apply (1).csv  Graduate_apply.csv\n",
            "Graduate_apply (2).csv  \u001b[0m\u001b[01;34msample_data\u001b[0m/\n"
          ],
          "name": "stdout"
        }
      ]
    },
    {
      "metadata": {
        "id": "Bie5qwmkYnVT",
        "colab_type": "text"
      },
      "cell_type": "markdown",
      "source": [
        "## 01. Creating Data Frames"
      ]
    },
    {
      "metadata": {
        "id": "6LkPm72OYnVU",
        "colab_type": "code",
        "colab": {}
      },
      "cell_type": "code",
      "source": [
        "# Dataframes 생성\n",
        "d = {\n",
        "   'col1': ['Item0', 'Item0', 'Item1', 'Item1'],\n",
        "   'col2': ['Gold', 'Bronze', 'Gold', 'Silver'],\n",
        "   'col3': [1, 2, 3, 4]\n",
        "}\n",
        "df = pd.DataFrame(d)"
      ],
      "execution_count": 0,
      "outputs": []
    },
    {
      "metadata": {
        "id": "-QjceA2vYnVW",
        "colab_type": "code",
        "colab": {
          "base_uri": "https://localhost:8080/",
          "height": 225
        },
        "outputId": "73f91418-88fb-4211-8b57-f2cc99ea1b69"
      },
      "cell_type": "code",
      "source": [
        "# Numpy Array => Pandas DataFrame\n",
        "import numpy as np\n",
        "\n",
        "dates = pd.date_range('20171201', periods=6)\n",
        "# DatetimeIndex(['2017-12-01', '2017-12-02', '2017-12-03', '2017-12-04',\n",
        "#                '2017-12-05', '2017-12-06'],\n",
        "#               dtype='datetime64[ns]', freq='D')\n",
        "\n",
        "df = pd.DataFrame(np.random.randn(6, 4), index=dates, columns=list('ABCD'))\n",
        "#                   A         B         C         D\n",
        "# 2013-01-01  0.469112 -0.282863 -1.509059 -1.135632\n",
        "# 2013-01-02  1.212112 -0.173215  0.119209 -1.044236\n",
        "# 2013-01-03 -0.861849 -2.104569 -0.494929  1.071804\n",
        "# 2013-01-04  0.721555 -0.706771 -1.039575  0.271860\n",
        "# 2013-01-05 -0.424972  0.567020  0.276232 -1.087401\n",
        "# 2013-01-06 -0.673690  0.113648 -1.478427  0.524988\n",
        "\n",
        "df"
      ],
      "execution_count": 7,
      "outputs": [
        {
          "output_type": "execute_result",
          "data": {
            "text/html": [
              "<div>\n",
              "<style scoped>\n",
              "    .dataframe tbody tr th:only-of-type {\n",
              "        vertical-align: middle;\n",
              "    }\n",
              "\n",
              "    .dataframe tbody tr th {\n",
              "        vertical-align: top;\n",
              "    }\n",
              "\n",
              "    .dataframe thead th {\n",
              "        text-align: right;\n",
              "    }\n",
              "</style>\n",
              "<table border=\"1\" class=\"dataframe\">\n",
              "  <thead>\n",
              "    <tr style=\"text-align: right;\">\n",
              "      <th></th>\n",
              "      <th>A</th>\n",
              "      <th>B</th>\n",
              "      <th>C</th>\n",
              "      <th>D</th>\n",
              "    </tr>\n",
              "  </thead>\n",
              "  <tbody>\n",
              "    <tr>\n",
              "      <th>2017-12-01</th>\n",
              "      <td>-0.875593</td>\n",
              "      <td>1.057400</td>\n",
              "      <td>-0.082805</td>\n",
              "      <td>2.077097</td>\n",
              "    </tr>\n",
              "    <tr>\n",
              "      <th>2017-12-02</th>\n",
              "      <td>-1.351431</td>\n",
              "      <td>-0.312819</td>\n",
              "      <td>-0.554388</td>\n",
              "      <td>-0.626229</td>\n",
              "    </tr>\n",
              "    <tr>\n",
              "      <th>2017-12-03</th>\n",
              "      <td>0.474928</td>\n",
              "      <td>1.553974</td>\n",
              "      <td>0.033526</td>\n",
              "      <td>-1.445241</td>\n",
              "    </tr>\n",
              "    <tr>\n",
              "      <th>2017-12-04</th>\n",
              "      <td>-1.041249</td>\n",
              "      <td>-0.751877</td>\n",
              "      <td>-0.368256</td>\n",
              "      <td>0.514139</td>\n",
              "    </tr>\n",
              "    <tr>\n",
              "      <th>2017-12-05</th>\n",
              "      <td>-0.375617</td>\n",
              "      <td>1.141626</td>\n",
              "      <td>-1.942709</td>\n",
              "      <td>-0.121088</td>\n",
              "    </tr>\n",
              "    <tr>\n",
              "      <th>2017-12-06</th>\n",
              "      <td>-1.610864</td>\n",
              "      <td>-0.568005</td>\n",
              "      <td>0.697468</td>\n",
              "      <td>0.796999</td>\n",
              "    </tr>\n",
              "  </tbody>\n",
              "</table>\n",
              "</div>"
            ],
            "text/plain": [
              "                   A         B         C         D\n",
              "2017-12-01 -0.875593  1.057400 -0.082805  2.077097\n",
              "2017-12-02 -1.351431 -0.312819 -0.554388 -0.626229\n",
              "2017-12-03  0.474928  1.553974  0.033526 -1.445241\n",
              "2017-12-04 -1.041249 -0.751877 -0.368256  0.514139\n",
              "2017-12-05 -0.375617  1.141626 -1.942709 -0.121088\n",
              "2017-12-06 -1.610864 -0.568005  0.697468  0.796999"
            ]
          },
          "metadata": {
            "tags": []
          },
          "execution_count": 7
        }
      ]
    },
    {
      "metadata": {
        "id": "JD8ItbgpYnVY",
        "colab_type": "code",
        "colab": {
          "base_uri": "https://localhost:8080/",
          "height": 122
        },
        "outputId": "125f5456-e99d-4149-f632-d99630a04eb5"
      },
      "cell_type": "code",
      "source": [
        "# Pandas DataFrame => Numpy Array\n",
        "np_array = df.values\n",
        "print(np_array, np_array.shape)"
      ],
      "execution_count": 8,
      "outputs": [
        {
          "output_type": "stream",
          "text": [
            "[[-0.87559316  1.05739976 -0.08280529  2.07709689]\n",
            " [-1.35143068 -0.3128186  -0.55438814 -0.62622928]\n",
            " [ 0.47492755  1.55397403  0.03352623 -1.44524119]\n",
            " [-1.04124939 -0.75187696 -0.36825634  0.51413936]\n",
            " [-0.37561687  1.14162604 -1.94270933 -0.12108764]\n",
            " [-1.61086421 -0.56800525  0.69746818  0.79699895]] (6, 4)\n"
          ],
          "name": "stdout"
        }
      ]
    },
    {
      "metadata": {
        "id": "oEKAmGsQYnVb",
        "colab_type": "code",
        "colab": {
          "base_uri": "https://localhost:8080/",
          "height": 228
        },
        "outputId": "2ea4244f-b05e-40f1-b4fa-478e1b56dffd"
      },
      "cell_type": "code",
      "source": [
        "# Loading CSV files\n",
        "\n",
        "df = pd.read_csv('./Graduate_apply.csv', sep=',')\n",
        "print(df.head())\n",
        "\n",
        "df = pd.read_csv('./Graduate_apply.csv', sep=',', skipinitialspace=True)\n",
        "print(df.head())\n",
        "\n",
        "# to_csv\n",
        "df.to_csv('./file.csv', header=True, index=False, encoding='utf-8')"
      ],
      "execution_count": 10,
      "outputs": [
        {
          "output_type": "stream",
          "text": [
            "   admit  gre   gpa  rank\n",
            "0      0  380  3.61     3\n",
            "1      1  660  3.67     3\n",
            "2      1  800  4.00     1\n",
            "3      1  640  3.19     4\n",
            "4      0  520  2.93     4\n",
            "   admit  gre   gpa  rank\n",
            "0      0  380  3.61     3\n",
            "1      1  660  3.67     3\n",
            "2      1  800  4.00     1\n",
            "3      1  640  3.19     4\n",
            "4      0  520  2.93     4\n"
          ],
          "name": "stdout"
        }
      ]
    },
    {
      "metadata": {
        "id": "B9NZbzsOmE9Q",
        "colab_type": "code",
        "colab": {
          "base_uri": "https://localhost:8080/",
          "height": 52
        },
        "outputId": "21df5bf6-6c66-4411-eb62-8a116202a1f7"
      },
      "cell_type": "code",
      "source": [
        "ls"
      ],
      "execution_count": 11,
      "outputs": [
        {
          "output_type": "stream",
          "text": [
            "file.csv                Graduate_apply (2).csv  \u001b[0m\u001b[01;34msample_data\u001b[0m/\n",
            "Graduate_apply (1).csv  Graduate_apply.csv\n"
          ],
          "name": "stdout"
        }
      ]
    },
    {
      "metadata": {
        "id": "-RYoYWk-YnVc",
        "colab_type": "text"
      },
      "cell_type": "markdown",
      "source": [
        "## 02. Previewing Data"
      ]
    },
    {
      "metadata": {
        "id": "3V0T5qwfYnVd",
        "colab_type": "code",
        "colab": {
          "base_uri": "https://localhost:8080/",
          "height": 195
        },
        "outputId": "a870b889-ad9d-414f-b776-c8d8be4cbc6a"
      },
      "cell_type": "code",
      "source": [
        "# 첫 5개 행의 데이터를 보여줍니다.\n",
        "df.head()"
      ],
      "execution_count": 12,
      "outputs": [
        {
          "output_type": "execute_result",
          "data": {
            "text/html": [
              "<div>\n",
              "<style scoped>\n",
              "    .dataframe tbody tr th:only-of-type {\n",
              "        vertical-align: middle;\n",
              "    }\n",
              "\n",
              "    .dataframe tbody tr th {\n",
              "        vertical-align: top;\n",
              "    }\n",
              "\n",
              "    .dataframe thead th {\n",
              "        text-align: right;\n",
              "    }\n",
              "</style>\n",
              "<table border=\"1\" class=\"dataframe\">\n",
              "  <thead>\n",
              "    <tr style=\"text-align: right;\">\n",
              "      <th></th>\n",
              "      <th>admit</th>\n",
              "      <th>gre</th>\n",
              "      <th>gpa</th>\n",
              "      <th>rank</th>\n",
              "    </tr>\n",
              "  </thead>\n",
              "  <tbody>\n",
              "    <tr>\n",
              "      <th>0</th>\n",
              "      <td>0</td>\n",
              "      <td>380</td>\n",
              "      <td>3.61</td>\n",
              "      <td>3</td>\n",
              "    </tr>\n",
              "    <tr>\n",
              "      <th>1</th>\n",
              "      <td>1</td>\n",
              "      <td>660</td>\n",
              "      <td>3.67</td>\n",
              "      <td>3</td>\n",
              "    </tr>\n",
              "    <tr>\n",
              "      <th>2</th>\n",
              "      <td>1</td>\n",
              "      <td>800</td>\n",
              "      <td>4.00</td>\n",
              "      <td>1</td>\n",
              "    </tr>\n",
              "    <tr>\n",
              "      <th>3</th>\n",
              "      <td>1</td>\n",
              "      <td>640</td>\n",
              "      <td>3.19</td>\n",
              "      <td>4</td>\n",
              "    </tr>\n",
              "    <tr>\n",
              "      <th>4</th>\n",
              "      <td>0</td>\n",
              "      <td>520</td>\n",
              "      <td>2.93</td>\n",
              "      <td>4</td>\n",
              "    </tr>\n",
              "  </tbody>\n",
              "</table>\n",
              "</div>"
            ],
            "text/plain": [
              "   admit  gre   gpa  rank\n",
              "0      0  380  3.61     3\n",
              "1      1  660  3.67     3\n",
              "2      1  800  4.00     1\n",
              "3      1  640  3.19     4\n",
              "4      0  520  2.93     4"
            ]
          },
          "metadata": {
            "tags": []
          },
          "execution_count": 12
        }
      ]
    },
    {
      "metadata": {
        "id": "2agjyJgBYnVf",
        "colab_type": "code",
        "colab": {
          "base_uri": "https://localhost:8080/",
          "height": 136
        },
        "outputId": "7d6ce477-e515-454c-b2f8-3c46d23b9c05"
      },
      "cell_type": "code",
      "source": [
        "# 마지막 3개 행의 데이터를 보여줍니다.\n",
        "df.tail(3)"
      ],
      "execution_count": 13,
      "outputs": [
        {
          "output_type": "execute_result",
          "data": {
            "text/html": [
              "<div>\n",
              "<style scoped>\n",
              "    .dataframe tbody tr th:only-of-type {\n",
              "        vertical-align: middle;\n",
              "    }\n",
              "\n",
              "    .dataframe tbody tr th {\n",
              "        vertical-align: top;\n",
              "    }\n",
              "\n",
              "    .dataframe thead th {\n",
              "        text-align: right;\n",
              "    }\n",
              "</style>\n",
              "<table border=\"1\" class=\"dataframe\">\n",
              "  <thead>\n",
              "    <tr style=\"text-align: right;\">\n",
              "      <th></th>\n",
              "      <th>admit</th>\n",
              "      <th>gre</th>\n",
              "      <th>gpa</th>\n",
              "      <th>rank</th>\n",
              "    </tr>\n",
              "  </thead>\n",
              "  <tbody>\n",
              "    <tr>\n",
              "      <th>397</th>\n",
              "      <td>0</td>\n",
              "      <td>460</td>\n",
              "      <td>2.63</td>\n",
              "      <td>2</td>\n",
              "    </tr>\n",
              "    <tr>\n",
              "      <th>398</th>\n",
              "      <td>0</td>\n",
              "      <td>700</td>\n",
              "      <td>3.65</td>\n",
              "      <td>2</td>\n",
              "    </tr>\n",
              "    <tr>\n",
              "      <th>399</th>\n",
              "      <td>0</td>\n",
              "      <td>600</td>\n",
              "      <td>3.89</td>\n",
              "      <td>3</td>\n",
              "    </tr>\n",
              "  </tbody>\n",
              "</table>\n",
              "</div>"
            ],
            "text/plain": [
              "     admit  gre   gpa  rank\n",
              "397      0  460  2.63     2\n",
              "398      0  700  3.65     2\n",
              "399      0  600  3.89     3"
            ]
          },
          "metadata": {
            "tags": []
          },
          "execution_count": 13
        }
      ]
    },
    {
      "metadata": {
        "id": "EYh2NhMSYnVh",
        "colab_type": "code",
        "colab": {
          "base_uri": "https://localhost:8080/",
          "height": 34
        },
        "outputId": "c2b7b1fa-96e1-4640-ab08-04dc76d52cd3"
      },
      "cell_type": "code",
      "source": [
        "# 데이터 프레임 모양 확인 - (rows, cols) tuple\n",
        "df.shape"
      ],
      "execution_count": 14,
      "outputs": [
        {
          "output_type": "execute_result",
          "data": {
            "text/plain": [
              "(400, 4)"
            ]
          },
          "metadata": {
            "tags": []
          },
          "execution_count": 14
        }
      ]
    },
    {
      "metadata": {
        "id": "YZp-NPIQYnVl",
        "colab_type": "code",
        "colab": {
          "base_uri": "https://localhost:8080/",
          "height": 52
        },
        "outputId": "1bdbc2d9-2ce7-406c-a6ea-c05160d319dd"
      },
      "cell_type": "code",
      "source": [
        "# 칼럼명 출력\n",
        "print(df.columns)\n",
        "print(list(df))"
      ],
      "execution_count": 16,
      "outputs": [
        {
          "output_type": "stream",
          "text": [
            "Index(['admit', 'gre', 'gpa', 'rank'], dtype='object')\n",
            "['admit', 'gre', 'gpa', 'rank']\n"
          ],
          "name": "stdout"
        }
      ]
    },
    {
      "metadata": {
        "id": "mJbpIbz2YnVn",
        "colab_type": "code",
        "colab": {
          "base_uri": "https://localhost:8080/",
          "height": 105
        },
        "outputId": "11e91d72-9a00-4ae0-835f-82d929954b23"
      },
      "cell_type": "code",
      "source": [
        "# 각 칼럼의 데이터 타입\n",
        "df.dtypes"
      ],
      "execution_count": 17,
      "outputs": [
        {
          "output_type": "execute_result",
          "data": {
            "text/plain": [
              "admit      int64\n",
              "gre        int64\n",
              "gpa      float64\n",
              "rank       int64\n",
              "dtype: object"
            ]
          },
          "metadata": {
            "tags": []
          },
          "execution_count": 17
        }
      ]
    },
    {
      "metadata": {
        "id": "O-a2QMLXYnVu",
        "colab_type": "code",
        "colab": {
          "base_uri": "https://localhost:8080/",
          "height": 140
        },
        "outputId": "1bf47e62-57d6-4831-b2c8-112d9aa4b5f0"
      },
      "cell_type": "code",
      "source": [
        "# 데이터 출력 - numpy array\n",
        "df.values"
      ],
      "execution_count": 18,
      "outputs": [
        {
          "output_type": "execute_result",
          "data": {
            "text/plain": [
              "array([[  0.  , 380.  ,   3.61,   3.  ],\n",
              "       [  1.  , 660.  ,   3.67,   3.  ],\n",
              "       [  1.  , 800.  ,   4.  ,   1.  ],\n",
              "       ...,\n",
              "       [  0.  , 460.  ,   2.63,   2.  ],\n",
              "       [  0.  , 700.  ,   3.65,   2.  ],\n",
              "       [  0.  , 600.  ,   3.89,   3.  ]])"
            ]
          },
          "metadata": {
            "tags": []
          },
          "execution_count": 18
        }
      ]
    },
    {
      "metadata": {
        "id": "8Z8rhBNBYnVw",
        "colab_type": "code",
        "colab": {
          "base_uri": "https://localhost:8080/",
          "height": 284
        },
        "outputId": "115719a5-c943-4f42-9994-0c40f5b61342"
      },
      "cell_type": "code",
      "source": [
        "# 간단한 통계 정보\n",
        "df.describe()"
      ],
      "execution_count": 19,
      "outputs": [
        {
          "output_type": "execute_result",
          "data": {
            "text/html": [
              "<div>\n",
              "<style scoped>\n",
              "    .dataframe tbody tr th:only-of-type {\n",
              "        vertical-align: middle;\n",
              "    }\n",
              "\n",
              "    .dataframe tbody tr th {\n",
              "        vertical-align: top;\n",
              "    }\n",
              "\n",
              "    .dataframe thead th {\n",
              "        text-align: right;\n",
              "    }\n",
              "</style>\n",
              "<table border=\"1\" class=\"dataframe\">\n",
              "  <thead>\n",
              "    <tr style=\"text-align: right;\">\n",
              "      <th></th>\n",
              "      <th>admit</th>\n",
              "      <th>gre</th>\n",
              "      <th>gpa</th>\n",
              "      <th>rank</th>\n",
              "    </tr>\n",
              "  </thead>\n",
              "  <tbody>\n",
              "    <tr>\n",
              "      <th>count</th>\n",
              "      <td>400.000000</td>\n",
              "      <td>400.000000</td>\n",
              "      <td>400.000000</td>\n",
              "      <td>400.00000</td>\n",
              "    </tr>\n",
              "    <tr>\n",
              "      <th>mean</th>\n",
              "      <td>0.317500</td>\n",
              "      <td>587.700000</td>\n",
              "      <td>3.389900</td>\n",
              "      <td>2.48500</td>\n",
              "    </tr>\n",
              "    <tr>\n",
              "      <th>std</th>\n",
              "      <td>0.466087</td>\n",
              "      <td>115.516536</td>\n",
              "      <td>0.380567</td>\n",
              "      <td>0.94446</td>\n",
              "    </tr>\n",
              "    <tr>\n",
              "      <th>min</th>\n",
              "      <td>0.000000</td>\n",
              "      <td>220.000000</td>\n",
              "      <td>2.260000</td>\n",
              "      <td>1.00000</td>\n",
              "    </tr>\n",
              "    <tr>\n",
              "      <th>25%</th>\n",
              "      <td>0.000000</td>\n",
              "      <td>520.000000</td>\n",
              "      <td>3.130000</td>\n",
              "      <td>2.00000</td>\n",
              "    </tr>\n",
              "    <tr>\n",
              "      <th>50%</th>\n",
              "      <td>0.000000</td>\n",
              "      <td>580.000000</td>\n",
              "      <td>3.395000</td>\n",
              "      <td>2.00000</td>\n",
              "    </tr>\n",
              "    <tr>\n",
              "      <th>75%</th>\n",
              "      <td>1.000000</td>\n",
              "      <td>660.000000</td>\n",
              "      <td>3.670000</td>\n",
              "      <td>3.00000</td>\n",
              "    </tr>\n",
              "    <tr>\n",
              "      <th>max</th>\n",
              "      <td>1.000000</td>\n",
              "      <td>800.000000</td>\n",
              "      <td>4.000000</td>\n",
              "      <td>4.00000</td>\n",
              "    </tr>\n",
              "  </tbody>\n",
              "</table>\n",
              "</div>"
            ],
            "text/plain": [
              "            admit         gre         gpa       rank\n",
              "count  400.000000  400.000000  400.000000  400.00000\n",
              "mean     0.317500  587.700000    3.389900    2.48500\n",
              "std      0.466087  115.516536    0.380567    0.94446\n",
              "min      0.000000  220.000000    2.260000    1.00000\n",
              "25%      0.000000  520.000000    3.130000    2.00000\n",
              "50%      0.000000  580.000000    3.395000    2.00000\n",
              "75%      1.000000  660.000000    3.670000    3.00000\n",
              "max      1.000000  800.000000    4.000000    4.00000"
            ]
          },
          "metadata": {
            "tags": []
          },
          "execution_count": 19
        }
      ]
    },
    {
      "metadata": {
        "id": "jPLYmNHQYnVy",
        "colab_type": "text"
      },
      "cell_type": "markdown",
      "source": [
        "## 03. Sorting"
      ]
    },
    {
      "metadata": {
        "id": "XtYZ3ykzYnVz",
        "colab_type": "code",
        "colab": {
          "base_uri": "https://localhost:8080/",
          "height": 195
        },
        "outputId": "878c3f96-4ec3-40b6-d674-40f1fca8dbc4"
      },
      "cell_type": "code",
      "source": [
        "# index로 정렬\n",
        "df.sort_index(axis=0, ascending=False).head()"
      ],
      "execution_count": 20,
      "outputs": [
        {
          "output_type": "execute_result",
          "data": {
            "text/html": [
              "<div>\n",
              "<style scoped>\n",
              "    .dataframe tbody tr th:only-of-type {\n",
              "        vertical-align: middle;\n",
              "    }\n",
              "\n",
              "    .dataframe tbody tr th {\n",
              "        vertical-align: top;\n",
              "    }\n",
              "\n",
              "    .dataframe thead th {\n",
              "        text-align: right;\n",
              "    }\n",
              "</style>\n",
              "<table border=\"1\" class=\"dataframe\">\n",
              "  <thead>\n",
              "    <tr style=\"text-align: right;\">\n",
              "      <th></th>\n",
              "      <th>admit</th>\n",
              "      <th>gre</th>\n",
              "      <th>gpa</th>\n",
              "      <th>rank</th>\n",
              "    </tr>\n",
              "  </thead>\n",
              "  <tbody>\n",
              "    <tr>\n",
              "      <th>399</th>\n",
              "      <td>0</td>\n",
              "      <td>600</td>\n",
              "      <td>3.89</td>\n",
              "      <td>3</td>\n",
              "    </tr>\n",
              "    <tr>\n",
              "      <th>398</th>\n",
              "      <td>0</td>\n",
              "      <td>700</td>\n",
              "      <td>3.65</td>\n",
              "      <td>2</td>\n",
              "    </tr>\n",
              "    <tr>\n",
              "      <th>397</th>\n",
              "      <td>0</td>\n",
              "      <td>460</td>\n",
              "      <td>2.63</td>\n",
              "      <td>2</td>\n",
              "    </tr>\n",
              "    <tr>\n",
              "      <th>396</th>\n",
              "      <td>0</td>\n",
              "      <td>560</td>\n",
              "      <td>3.04</td>\n",
              "      <td>3</td>\n",
              "    </tr>\n",
              "    <tr>\n",
              "      <th>395</th>\n",
              "      <td>0</td>\n",
              "      <td>620</td>\n",
              "      <td>4.00</td>\n",
              "      <td>2</td>\n",
              "    </tr>\n",
              "  </tbody>\n",
              "</table>\n",
              "</div>"
            ],
            "text/plain": [
              "     admit  gre   gpa  rank\n",
              "399      0  600  3.89     3\n",
              "398      0  700  3.65     2\n",
              "397      0  460  2.63     2\n",
              "396      0  560  3.04     3\n",
              "395      0  620  4.00     2"
            ]
          },
          "metadata": {
            "tags": []
          },
          "execution_count": 20
        }
      ]
    },
    {
      "metadata": {
        "id": "b54Sod9nYnV2",
        "colab_type": "code",
        "colab": {
          "base_uri": "https://localhost:8080/",
          "height": 195
        },
        "outputId": "c6f617e1-b7d8-46f3-c533-281041cf0bca"
      },
      "cell_type": "code",
      "source": [
        "# 특정 컬럼의 값으로 정렬\n",
        "df.sort_values(by=['admit', 'gpa'], ascending=False).head()"
      ],
      "execution_count": 21,
      "outputs": [
        {
          "output_type": "execute_result",
          "data": {
            "text/html": [
              "<div>\n",
              "<style scoped>\n",
              "    .dataframe tbody tr th:only-of-type {\n",
              "        vertical-align: middle;\n",
              "    }\n",
              "\n",
              "    .dataframe tbody tr th {\n",
              "        vertical-align: top;\n",
              "    }\n",
              "\n",
              "    .dataframe thead th {\n",
              "        text-align: right;\n",
              "    }\n",
              "</style>\n",
              "<table border=\"1\" class=\"dataframe\">\n",
              "  <thead>\n",
              "    <tr style=\"text-align: right;\">\n",
              "      <th></th>\n",
              "      <th>admit</th>\n",
              "      <th>gre</th>\n",
              "      <th>gpa</th>\n",
              "      <th>rank</th>\n",
              "    </tr>\n",
              "  </thead>\n",
              "  <tbody>\n",
              "    <tr>\n",
              "      <th>2</th>\n",
              "      <td>1</td>\n",
              "      <td>800</td>\n",
              "      <td>4.0</td>\n",
              "      <td>1</td>\n",
              "    </tr>\n",
              "    <tr>\n",
              "      <th>12</th>\n",
              "      <td>1</td>\n",
              "      <td>760</td>\n",
              "      <td>4.0</td>\n",
              "      <td>1</td>\n",
              "    </tr>\n",
              "    <tr>\n",
              "      <th>14</th>\n",
              "      <td>1</td>\n",
              "      <td>700</td>\n",
              "      <td>4.0</td>\n",
              "      <td>1</td>\n",
              "    </tr>\n",
              "    <tr>\n",
              "      <th>33</th>\n",
              "      <td>1</td>\n",
              "      <td>800</td>\n",
              "      <td>4.0</td>\n",
              "      <td>3</td>\n",
              "    </tr>\n",
              "    <tr>\n",
              "      <th>55</th>\n",
              "      <td>1</td>\n",
              "      <td>740</td>\n",
              "      <td>4.0</td>\n",
              "      <td>3</td>\n",
              "    </tr>\n",
              "  </tbody>\n",
              "</table>\n",
              "</div>"
            ],
            "text/plain": [
              "    admit  gre  gpa  rank\n",
              "2       1  800  4.0     1\n",
              "12      1  760  4.0     1\n",
              "14      1  700  4.0     1\n",
              "33      1  800  4.0     3\n",
              "55      1  740  4.0     3"
            ]
          },
          "metadata": {
            "tags": []
          },
          "execution_count": 21
        }
      ]
    },
    {
      "metadata": {
        "id": "hUWXEi1KYnV4",
        "colab_type": "text"
      },
      "cell_type": "markdown",
      "source": [
        "### 실습"
      ]
    },
    {
      "metadata": {
        "id": "LanCge2QYnV4",
        "colab_type": "code",
        "colab": {}
      },
      "cell_type": "code",
      "source": [
        "# pandas 라이브러리 호출\n",
        "\n",
        "# pandas read_csv 함수를 이용하여 ./resources/graduate_apply.csv 파일을 읽고, data_frame 변수에 담습니다. \n",
        "\n",
        "# data_frame의 shape를 확인합니다.\n",
        "\n",
        "# data_frame의 칼럼명과 각 칼럼의 데이터 타입을 확인합니다.\n",
        "\n",
        "# data_frame의 데이터의 첫 3행의 데이터와 마지막 3행의 데이터를 출력합니다.\n",
        "\n",
        "# data_frame의 데이터를 numpy array로 변환하여 출력합니다.\n",
        "\n",
        "# data_frame의 데이터를 'gra' 칼럼을 기준으로 오름차순으로 정렬합니다. \n"
      ],
      "execution_count": 0,
      "outputs": []
    },
    {
      "metadata": {
        "id": "WUSoqSxcYnV5",
        "colab_type": "text"
      },
      "cell_type": "markdown",
      "source": [
        "## 04. Selecting/Querying"
      ]
    },
    {
      "metadata": {
        "id": "TH8CN-tiYnV6",
        "colab_type": "code",
        "colab": {
          "base_uri": "https://localhost:8080/",
          "height": 122
        },
        "outputId": "b5fde94c-b065-43e6-bf8d-9a55ced6a71c"
      },
      "cell_type": "code",
      "source": [
        "# 칼럼명으로 조회 1\n",
        "df.gre.head()"
      ],
      "execution_count": 22,
      "outputs": [
        {
          "output_type": "execute_result",
          "data": {
            "text/plain": [
              "0    380\n",
              "1    660\n",
              "2    800\n",
              "3    640\n",
              "4    520\n",
              "Name: gre, dtype: int64"
            ]
          },
          "metadata": {
            "tags": []
          },
          "execution_count": 22
        }
      ]
    },
    {
      "metadata": {
        "id": "udMMbPTPYnV8",
        "colab_type": "code",
        "colab": {
          "base_uri": "https://localhost:8080/",
          "height": 52
        },
        "outputId": "63162bee-4cab-4945-fe81-3638bfd0703c"
      },
      "cell_type": "code",
      "source": [
        "# 칼럼명으로 조회 2\n",
        "df['gre'].head()\n",
        "df['gre'].unique()          # 중복 제거"
      ],
      "execution_count": 23,
      "outputs": [
        {
          "output_type": "execute_result",
          "data": {
            "text/plain": [
              "array([380, 660, 800, 640, 520, 760, 560, 400, 540, 700, 440, 480, 780,\n",
              "       360, 500, 600, 680, 620, 580, 460, 740, 300, 720, 340, 420, 220])"
            ]
          },
          "metadata": {
            "tags": []
          },
          "execution_count": 23
        }
      ]
    },
    {
      "metadata": {
        "id": "GPp0xZqzYnV9",
        "colab_type": "code",
        "colab": {
          "base_uri": "https://localhost:8080/",
          "height": 195
        },
        "outputId": "78920ece-6e8c-4629-9c80-7e22ce341e3f"
      },
      "cell_type": "code",
      "source": [
        "# 두 개의 칼럼 동시 조회\n",
        "df[['gpa', 'gre']].head()"
      ],
      "execution_count": 24,
      "outputs": [
        {
          "output_type": "execute_result",
          "data": {
            "text/html": [
              "<div>\n",
              "<style scoped>\n",
              "    .dataframe tbody tr th:only-of-type {\n",
              "        vertical-align: middle;\n",
              "    }\n",
              "\n",
              "    .dataframe tbody tr th {\n",
              "        vertical-align: top;\n",
              "    }\n",
              "\n",
              "    .dataframe thead th {\n",
              "        text-align: right;\n",
              "    }\n",
              "</style>\n",
              "<table border=\"1\" class=\"dataframe\">\n",
              "  <thead>\n",
              "    <tr style=\"text-align: right;\">\n",
              "      <th></th>\n",
              "      <th>gpa</th>\n",
              "      <th>gre</th>\n",
              "    </tr>\n",
              "  </thead>\n",
              "  <tbody>\n",
              "    <tr>\n",
              "      <th>0</th>\n",
              "      <td>3.61</td>\n",
              "      <td>380</td>\n",
              "    </tr>\n",
              "    <tr>\n",
              "      <th>1</th>\n",
              "      <td>3.67</td>\n",
              "      <td>660</td>\n",
              "    </tr>\n",
              "    <tr>\n",
              "      <th>2</th>\n",
              "      <td>4.00</td>\n",
              "      <td>800</td>\n",
              "    </tr>\n",
              "    <tr>\n",
              "      <th>3</th>\n",
              "      <td>3.19</td>\n",
              "      <td>640</td>\n",
              "    </tr>\n",
              "    <tr>\n",
              "      <th>4</th>\n",
              "      <td>2.93</td>\n",
              "      <td>520</td>\n",
              "    </tr>\n",
              "  </tbody>\n",
              "</table>\n",
              "</div>"
            ],
            "text/plain": [
              "    gpa  gre\n",
              "0  3.61  380\n",
              "1  3.67  660\n",
              "2  4.00  800\n",
              "3  3.19  640\n",
              "4  2.93  520"
            ]
          },
          "metadata": {
            "tags": []
          },
          "execution_count": 24
        }
      ]
    },
    {
      "metadata": {
        "id": "gLL3x8wWYnV_",
        "colab_type": "code",
        "colab": {
          "base_uri": "https://localhost:8080/",
          "height": 105
        },
        "outputId": "a5c70c76-f444-401d-9199-a4b6f555aaf2"
      },
      "cell_type": "code",
      "source": [
        "# 행번호 1 조회\n",
        "df.iloc[1]"
      ],
      "execution_count": 25,
      "outputs": [
        {
          "output_type": "execute_result",
          "data": {
            "text/plain": [
              "admit      1.00\n",
              "gre      660.00\n",
              "gpa        3.67\n",
              "rank       3.00\n",
              "Name: 1, dtype: float64"
            ]
          },
          "metadata": {
            "tags": []
          },
          "execution_count": 25
        }
      ]
    },
    {
      "metadata": {
        "id": "PMXMj8iNYnWB",
        "colab_type": "code",
        "colab": {
          "base_uri": "https://localhost:8080/",
          "height": 106
        },
        "outputId": "46abf3eb-67b7-4001-917e-345ae1f12dc4"
      },
      "cell_type": "code",
      "source": [
        "# 행번호 1~3 조회\n",
        "df.iloc[1:3]"
      ],
      "execution_count": 26,
      "outputs": [
        {
          "output_type": "execute_result",
          "data": {
            "text/html": [
              "<div>\n",
              "<style scoped>\n",
              "    .dataframe tbody tr th:only-of-type {\n",
              "        vertical-align: middle;\n",
              "    }\n",
              "\n",
              "    .dataframe tbody tr th {\n",
              "        vertical-align: top;\n",
              "    }\n",
              "\n",
              "    .dataframe thead th {\n",
              "        text-align: right;\n",
              "    }\n",
              "</style>\n",
              "<table border=\"1\" class=\"dataframe\">\n",
              "  <thead>\n",
              "    <tr style=\"text-align: right;\">\n",
              "      <th></th>\n",
              "      <th>admit</th>\n",
              "      <th>gre</th>\n",
              "      <th>gpa</th>\n",
              "      <th>rank</th>\n",
              "    </tr>\n",
              "  </thead>\n",
              "  <tbody>\n",
              "    <tr>\n",
              "      <th>1</th>\n",
              "      <td>1</td>\n",
              "      <td>660</td>\n",
              "      <td>3.67</td>\n",
              "      <td>3</td>\n",
              "    </tr>\n",
              "    <tr>\n",
              "      <th>2</th>\n",
              "      <td>1</td>\n",
              "      <td>800</td>\n",
              "      <td>4.00</td>\n",
              "      <td>1</td>\n",
              "    </tr>\n",
              "  </tbody>\n",
              "</table>\n",
              "</div>"
            ],
            "text/plain": [
              "   admit  gre   gpa  rank\n",
              "1      1  660  3.67     3\n",
              "2      1  800  4.00     1"
            ]
          },
          "metadata": {
            "tags": []
          },
          "execution_count": 26
        }
      ]
    },
    {
      "metadata": {
        "id": "3_YNehA3YnWD",
        "colab_type": "code",
        "colab": {
          "base_uri": "https://localhost:8080/",
          "height": 34
        },
        "outputId": "44d9207f-3949-4951-9a66-382bd1582e0e"
      },
      "cell_type": "code",
      "source": [
        "# 0번째 row, 0번째 column\n",
        "df.iloc[0, 0]"
      ],
      "execution_count": 27,
      "outputs": [
        {
          "output_type": "execute_result",
          "data": {
            "text/plain": [
              "0"
            ]
          },
          "metadata": {
            "tags": []
          },
          "execution_count": 27
        }
      ]
    },
    {
      "metadata": {
        "id": "hOcph2gbYnWF",
        "colab_type": "code",
        "colab": {
          "base_uri": "https://localhost:8080/",
          "height": 166
        },
        "outputId": "bc844206-00c4-4f41-8acf-6f99b91ef644"
      },
      "cell_type": "code",
      "source": [
        "# 0~4 rows & 0~2 columns\n",
        "df.iloc[0:4, 0:2]"
      ],
      "execution_count": 28,
      "outputs": [
        {
          "output_type": "execute_result",
          "data": {
            "text/html": [
              "<div>\n",
              "<style scoped>\n",
              "    .dataframe tbody tr th:only-of-type {\n",
              "        vertical-align: middle;\n",
              "    }\n",
              "\n",
              "    .dataframe tbody tr th {\n",
              "        vertical-align: top;\n",
              "    }\n",
              "\n",
              "    .dataframe thead th {\n",
              "        text-align: right;\n",
              "    }\n",
              "</style>\n",
              "<table border=\"1\" class=\"dataframe\">\n",
              "  <thead>\n",
              "    <tr style=\"text-align: right;\">\n",
              "      <th></th>\n",
              "      <th>admit</th>\n",
              "      <th>gre</th>\n",
              "    </tr>\n",
              "  </thead>\n",
              "  <tbody>\n",
              "    <tr>\n",
              "      <th>0</th>\n",
              "      <td>0</td>\n",
              "      <td>380</td>\n",
              "    </tr>\n",
              "    <tr>\n",
              "      <th>1</th>\n",
              "      <td>1</td>\n",
              "      <td>660</td>\n",
              "    </tr>\n",
              "    <tr>\n",
              "      <th>2</th>\n",
              "      <td>1</td>\n",
              "      <td>800</td>\n",
              "    </tr>\n",
              "    <tr>\n",
              "      <th>3</th>\n",
              "      <td>1</td>\n",
              "      <td>640</td>\n",
              "    </tr>\n",
              "  </tbody>\n",
              "</table>\n",
              "</div>"
            ],
            "text/plain": [
              "   admit  gre\n",
              "0      0  380\n",
              "1      1  660\n",
              "2      1  800\n",
              "3      1  640"
            ]
          },
          "metadata": {
            "tags": []
          },
          "execution_count": 28
        }
      ]
    },
    {
      "metadata": {
        "id": "0F1Hu1buYnWG",
        "colab_type": "code",
        "colab": {
          "base_uri": "https://localhost:8080/",
          "height": 122
        },
        "outputId": "eb8d0128-d261-4443-eea8-7a46ea143750"
      },
      "cell_type": "code",
      "source": [
        "# Produces and array, not a single value!\n",
        "(df.gpa > 3.5).head()"
      ],
      "execution_count": 29,
      "outputs": [
        {
          "output_type": "execute_result",
          "data": {
            "text/plain": [
              "0     True\n",
              "1     True\n",
              "2     True\n",
              "3    False\n",
              "4    False\n",
              "Name: gpa, dtype: bool"
            ]
          },
          "metadata": {
            "tags": []
          },
          "execution_count": 29
        }
      ]
    },
    {
      "metadata": {
        "id": "Kp2lBEDTYnWI",
        "colab_type": "code",
        "colab": {
          "base_uri": "https://localhost:8080/",
          "height": 195
        },
        "outputId": "1d0e33cb-2928-43a1-822c-58ae8941f7f0"
      },
      "cell_type": "code",
      "source": [
        "# Query by a single column value\n",
        "df[df.gpa > 3.0].head()"
      ],
      "execution_count": 30,
      "outputs": [
        {
          "output_type": "execute_result",
          "data": {
            "text/html": [
              "<div>\n",
              "<style scoped>\n",
              "    .dataframe tbody tr th:only-of-type {\n",
              "        vertical-align: middle;\n",
              "    }\n",
              "\n",
              "    .dataframe tbody tr th {\n",
              "        vertical-align: top;\n",
              "    }\n",
              "\n",
              "    .dataframe thead th {\n",
              "        text-align: right;\n",
              "    }\n",
              "</style>\n",
              "<table border=\"1\" class=\"dataframe\">\n",
              "  <thead>\n",
              "    <tr style=\"text-align: right;\">\n",
              "      <th></th>\n",
              "      <th>admit</th>\n",
              "      <th>gre</th>\n",
              "      <th>gpa</th>\n",
              "      <th>rank</th>\n",
              "    </tr>\n",
              "  </thead>\n",
              "  <tbody>\n",
              "    <tr>\n",
              "      <th>0</th>\n",
              "      <td>0</td>\n",
              "      <td>380</td>\n",
              "      <td>3.61</td>\n",
              "      <td>3</td>\n",
              "    </tr>\n",
              "    <tr>\n",
              "      <th>1</th>\n",
              "      <td>1</td>\n",
              "      <td>660</td>\n",
              "      <td>3.67</td>\n",
              "      <td>3</td>\n",
              "    </tr>\n",
              "    <tr>\n",
              "      <th>2</th>\n",
              "      <td>1</td>\n",
              "      <td>800</td>\n",
              "      <td>4.00</td>\n",
              "      <td>1</td>\n",
              "    </tr>\n",
              "    <tr>\n",
              "      <th>3</th>\n",
              "      <td>1</td>\n",
              "      <td>640</td>\n",
              "      <td>3.19</td>\n",
              "      <td>4</td>\n",
              "    </tr>\n",
              "    <tr>\n",
              "      <th>7</th>\n",
              "      <td>0</td>\n",
              "      <td>400</td>\n",
              "      <td>3.08</td>\n",
              "      <td>2</td>\n",
              "    </tr>\n",
              "  </tbody>\n",
              "</table>\n",
              "</div>"
            ],
            "text/plain": [
              "   admit  gre   gpa  rank\n",
              "0      0  380  3.61     3\n",
              "1      1  660  3.67     3\n",
              "2      1  800  4.00     1\n",
              "3      1  640  3.19     4\n",
              "7      0  400  3.08     2"
            ]
          },
          "metadata": {
            "tags": []
          },
          "execution_count": 30
        }
      ]
    },
    {
      "metadata": {
        "id": "QcvToTXBYnWJ",
        "colab_type": "code",
        "colab": {
          "base_uri": "https://localhost:8080/",
          "height": 195
        },
        "outputId": "06bd1775-74f0-4443-91d1-aa253a889465"
      },
      "cell_type": "code",
      "source": [
        "# Query by a single column, if it is in a list of predefined values\n",
        "df[df['rank'].isin([1, 2])].head()"
      ],
      "execution_count": 31,
      "outputs": [
        {
          "output_type": "execute_result",
          "data": {
            "text/html": [
              "<div>\n",
              "<style scoped>\n",
              "    .dataframe tbody tr th:only-of-type {\n",
              "        vertical-align: middle;\n",
              "    }\n",
              "\n",
              "    .dataframe tbody tr th {\n",
              "        vertical-align: top;\n",
              "    }\n",
              "\n",
              "    .dataframe thead th {\n",
              "        text-align: right;\n",
              "    }\n",
              "</style>\n",
              "<table border=\"1\" class=\"dataframe\">\n",
              "  <thead>\n",
              "    <tr style=\"text-align: right;\">\n",
              "      <th></th>\n",
              "      <th>admit</th>\n",
              "      <th>gre</th>\n",
              "      <th>gpa</th>\n",
              "      <th>rank</th>\n",
              "    </tr>\n",
              "  </thead>\n",
              "  <tbody>\n",
              "    <tr>\n",
              "      <th>2</th>\n",
              "      <td>1</td>\n",
              "      <td>800</td>\n",
              "      <td>4.00</td>\n",
              "      <td>1</td>\n",
              "    </tr>\n",
              "    <tr>\n",
              "      <th>5</th>\n",
              "      <td>1</td>\n",
              "      <td>760</td>\n",
              "      <td>3.00</td>\n",
              "      <td>2</td>\n",
              "    </tr>\n",
              "    <tr>\n",
              "      <th>6</th>\n",
              "      <td>1</td>\n",
              "      <td>560</td>\n",
              "      <td>2.98</td>\n",
              "      <td>1</td>\n",
              "    </tr>\n",
              "    <tr>\n",
              "      <th>7</th>\n",
              "      <td>0</td>\n",
              "      <td>400</td>\n",
              "      <td>3.08</td>\n",
              "      <td>2</td>\n",
              "    </tr>\n",
              "    <tr>\n",
              "      <th>9</th>\n",
              "      <td>0</td>\n",
              "      <td>700</td>\n",
              "      <td>3.92</td>\n",
              "      <td>2</td>\n",
              "    </tr>\n",
              "  </tbody>\n",
              "</table>\n",
              "</div>"
            ],
            "text/plain": [
              "   admit  gre   gpa  rank\n",
              "2      1  800  4.00     1\n",
              "5      1  760  3.00     2\n",
              "6      1  560  2.98     1\n",
              "7      0  400  3.08     2\n",
              "9      0  700  3.92     2"
            ]
          },
          "metadata": {
            "tags": []
          },
          "execution_count": 31
        }
      ]
    },
    {
      "metadata": {
        "id": "Vj3YKKw3YnWL",
        "colab_type": "code",
        "colab": {
          "base_uri": "https://localhost:8080/",
          "height": 195
        },
        "outputId": "9caa5fa7-694e-4539-f85f-3f5be6c62796"
      },
      "cell_type": "code",
      "source": [
        "# A conjunction query using two columns\n",
        "df[(df['gpa'] > 3.0) & (df['rank'] == 3)].head()"
      ],
      "execution_count": 32,
      "outputs": [
        {
          "output_type": "execute_result",
          "data": {
            "text/html": [
              "<div>\n",
              "<style scoped>\n",
              "    .dataframe tbody tr th:only-of-type {\n",
              "        vertical-align: middle;\n",
              "    }\n",
              "\n",
              "    .dataframe tbody tr th {\n",
              "        vertical-align: top;\n",
              "    }\n",
              "\n",
              "    .dataframe thead th {\n",
              "        text-align: right;\n",
              "    }\n",
              "</style>\n",
              "<table border=\"1\" class=\"dataframe\">\n",
              "  <thead>\n",
              "    <tr style=\"text-align: right;\">\n",
              "      <th></th>\n",
              "      <th>admit</th>\n",
              "      <th>gre</th>\n",
              "      <th>gpa</th>\n",
              "      <th>rank</th>\n",
              "    </tr>\n",
              "  </thead>\n",
              "  <tbody>\n",
              "    <tr>\n",
              "      <th>0</th>\n",
              "      <td>0</td>\n",
              "      <td>380</td>\n",
              "      <td>3.61</td>\n",
              "      <td>3</td>\n",
              "    </tr>\n",
              "    <tr>\n",
              "      <th>1</th>\n",
              "      <td>1</td>\n",
              "      <td>660</td>\n",
              "      <td>3.67</td>\n",
              "      <td>3</td>\n",
              "    </tr>\n",
              "    <tr>\n",
              "      <th>8</th>\n",
              "      <td>1</td>\n",
              "      <td>540</td>\n",
              "      <td>3.39</td>\n",
              "      <td>3</td>\n",
              "    </tr>\n",
              "    <tr>\n",
              "      <th>15</th>\n",
              "      <td>0</td>\n",
              "      <td>480</td>\n",
              "      <td>3.44</td>\n",
              "      <td>3</td>\n",
              "    </tr>\n",
              "    <tr>\n",
              "      <th>20</th>\n",
              "      <td>0</td>\n",
              "      <td>500</td>\n",
              "      <td>3.17</td>\n",
              "      <td>3</td>\n",
              "    </tr>\n",
              "  </tbody>\n",
              "</table>\n",
              "</div>"
            ],
            "text/plain": [
              "    admit  gre   gpa  rank\n",
              "0       0  380  3.61     3\n",
              "1       1  660  3.67     3\n",
              "8       1  540  3.39     3\n",
              "15      0  480  3.44     3\n",
              "20      0  500  3.17     3"
            ]
          },
          "metadata": {
            "tags": []
          },
          "execution_count": 32
        }
      ]
    },
    {
      "metadata": {
        "id": "WNZS-UD_YnWO",
        "colab_type": "code",
        "colab": {
          "base_uri": "https://localhost:8080/",
          "height": 195
        },
        "outputId": "ef06ca4e-1258-407f-85bb-8f9cc80b7871"
      },
      "cell_type": "code",
      "source": [
        "# A disjunction query using two columns\n",
        "df[(df['gpa'] > 3.0) | (df['rank'] == 3)].head()"
      ],
      "execution_count": 33,
      "outputs": [
        {
          "output_type": "execute_result",
          "data": {
            "text/html": [
              "<div>\n",
              "<style scoped>\n",
              "    .dataframe tbody tr th:only-of-type {\n",
              "        vertical-align: middle;\n",
              "    }\n",
              "\n",
              "    .dataframe tbody tr th {\n",
              "        vertical-align: top;\n",
              "    }\n",
              "\n",
              "    .dataframe thead th {\n",
              "        text-align: right;\n",
              "    }\n",
              "</style>\n",
              "<table border=\"1\" class=\"dataframe\">\n",
              "  <thead>\n",
              "    <tr style=\"text-align: right;\">\n",
              "      <th></th>\n",
              "      <th>admit</th>\n",
              "      <th>gre</th>\n",
              "      <th>gpa</th>\n",
              "      <th>rank</th>\n",
              "    </tr>\n",
              "  </thead>\n",
              "  <tbody>\n",
              "    <tr>\n",
              "      <th>0</th>\n",
              "      <td>0</td>\n",
              "      <td>380</td>\n",
              "      <td>3.61</td>\n",
              "      <td>3</td>\n",
              "    </tr>\n",
              "    <tr>\n",
              "      <th>1</th>\n",
              "      <td>1</td>\n",
              "      <td>660</td>\n",
              "      <td>3.67</td>\n",
              "      <td>3</td>\n",
              "    </tr>\n",
              "    <tr>\n",
              "      <th>2</th>\n",
              "      <td>1</td>\n",
              "      <td>800</td>\n",
              "      <td>4.00</td>\n",
              "      <td>1</td>\n",
              "    </tr>\n",
              "    <tr>\n",
              "      <th>3</th>\n",
              "      <td>1</td>\n",
              "      <td>640</td>\n",
              "      <td>3.19</td>\n",
              "      <td>4</td>\n",
              "    </tr>\n",
              "    <tr>\n",
              "      <th>7</th>\n",
              "      <td>0</td>\n",
              "      <td>400</td>\n",
              "      <td>3.08</td>\n",
              "      <td>2</td>\n",
              "    </tr>\n",
              "  </tbody>\n",
              "</table>\n",
              "</div>"
            ],
            "text/plain": [
              "   admit  gre   gpa  rank\n",
              "0      0  380  3.61     3\n",
              "1      1  660  3.67     3\n",
              "2      1  800  4.00     1\n",
              "3      1  640  3.19     4\n",
              "7      0  400  3.08     2"
            ]
          },
          "metadata": {
            "tags": []
          },
          "execution_count": 33
        }
      ]
    },
    {
      "metadata": {
        "id": "d9YbMOjqYnWP",
        "colab_type": "code",
        "colab": {
          "base_uri": "https://localhost:8080/",
          "height": 77
        },
        "outputId": "ebcfb34f-8f7f-45b3-b9e1-b28d62a639e7"
      },
      "cell_type": "code",
      "source": [
        "# Dataframes 생성\n",
        "d = {\n",
        "   'col1': ['Item0', 'Item0', 'Item1', 'Item1'],\n",
        "   'col2': ['Gold', 'Bronze', 'Gold', 'Silver'],\n",
        "   'col3': [1, 2, 3, 4]\n",
        "}\n",
        "df1 = pd.DataFrame(d)\n",
        "\n",
        "# 문자열이 들어있는 row만 조회\n",
        "df1[df1.col2.str.contains('ilver')]"
      ],
      "execution_count": 34,
      "outputs": [
        {
          "output_type": "execute_result",
          "data": {
            "text/html": [
              "<div>\n",
              "<style scoped>\n",
              "    .dataframe tbody tr th:only-of-type {\n",
              "        vertical-align: middle;\n",
              "    }\n",
              "\n",
              "    .dataframe tbody tr th {\n",
              "        vertical-align: top;\n",
              "    }\n",
              "\n",
              "    .dataframe thead th {\n",
              "        text-align: right;\n",
              "    }\n",
              "</style>\n",
              "<table border=\"1\" class=\"dataframe\">\n",
              "  <thead>\n",
              "    <tr style=\"text-align: right;\">\n",
              "      <th></th>\n",
              "      <th>col1</th>\n",
              "      <th>col2</th>\n",
              "      <th>col3</th>\n",
              "    </tr>\n",
              "  </thead>\n",
              "  <tbody>\n",
              "    <tr>\n",
              "      <th>3</th>\n",
              "      <td>Item1</td>\n",
              "      <td>Silver</td>\n",
              "      <td>4</td>\n",
              "    </tr>\n",
              "  </tbody>\n",
              "</table>\n",
              "</div>"
            ],
            "text/plain": [
              "    col1    col2  col3\n",
              "3  Item1  Silver     4"
            ]
          },
          "metadata": {
            "tags": []
          },
          "execution_count": 34
        }
      ]
    },
    {
      "metadata": {
        "id": "jCKFM4VHYnWS",
        "colab_type": "text"
      },
      "cell_type": "markdown",
      "source": [
        "### 실습"
      ]
    },
    {
      "metadata": {
        "id": "5q6cYIfpYnWS",
        "colab_type": "code",
        "colab": {}
      },
      "cell_type": "code",
      "source": [
        "# pandas 라이브러리 호출\n",
        "\n",
        "# pandas read_csv 함수를 이용하여 ./resources/graduate_apply.csv 파일을 읽고, data_frame 변수에 담습니다. \n",
        "\n",
        "# data_frame의 shape를 확인합니다.\n",
        "\n",
        "# data_frame의 칼럼명과 각 칼럼의 데이터 타입을 확인합니다.\n",
        "\n",
        "# data_frame의 데이터의 첫 3행의 데이터와 마지막 3행의 데이터를 출력합니다.\n",
        "\n",
        "# 'gpa' 칼럼의 데이터를 조회합니다. \n",
        "\n",
        "# unique 함수를 가지고 'rank'의 칼럼에 들어있는 데이터의 종류를 확인합니다.\n",
        "\n",
        "# 100번째 행의 데이터를 조회합니다.\n",
        "\n",
        "# rank가 0인 데이터를 조회합니다. \n",
        "\n",
        "# rank가 3, 4인 데이터의 갯수를 확인합니다.\n"
      ],
      "execution_count": 0,
      "outputs": []
    },
    {
      "metadata": {
        "id": "0kW6dzBFYnWW",
        "colab_type": "text"
      },
      "cell_type": "markdown",
      "source": [
        "## 05. Modifying Data Frames"
      ]
    },
    {
      "metadata": {
        "id": "qeUasveBYnWX",
        "colab_type": "code",
        "colab": {
          "base_uri": "https://localhost:8080/",
          "height": 166
        },
        "outputId": "ae913f33-42f7-4a8f-8b80-31e3ed50e6bf"
      },
      "cell_type": "code",
      "source": [
        "# 인덱스와 칼럼명으로 조회 & 수정\n",
        "df1.loc[1, 'col2'] = 'Bronze and Gold' \n",
        "df1"
      ],
      "execution_count": 35,
      "outputs": [
        {
          "output_type": "execute_result",
          "data": {
            "text/html": [
              "<div>\n",
              "<style scoped>\n",
              "    .dataframe tbody tr th:only-of-type {\n",
              "        vertical-align: middle;\n",
              "    }\n",
              "\n",
              "    .dataframe tbody tr th {\n",
              "        vertical-align: top;\n",
              "    }\n",
              "\n",
              "    .dataframe thead th {\n",
              "        text-align: right;\n",
              "    }\n",
              "</style>\n",
              "<table border=\"1\" class=\"dataframe\">\n",
              "  <thead>\n",
              "    <tr style=\"text-align: right;\">\n",
              "      <th></th>\n",
              "      <th>col1</th>\n",
              "      <th>col2</th>\n",
              "      <th>col3</th>\n",
              "    </tr>\n",
              "  </thead>\n",
              "  <tbody>\n",
              "    <tr>\n",
              "      <th>0</th>\n",
              "      <td>Item0</td>\n",
              "      <td>Gold</td>\n",
              "      <td>1</td>\n",
              "    </tr>\n",
              "    <tr>\n",
              "      <th>1</th>\n",
              "      <td>Item0</td>\n",
              "      <td>Bronze and Gold</td>\n",
              "      <td>2</td>\n",
              "    </tr>\n",
              "    <tr>\n",
              "      <th>2</th>\n",
              "      <td>Item1</td>\n",
              "      <td>Gold</td>\n",
              "      <td>3</td>\n",
              "    </tr>\n",
              "    <tr>\n",
              "      <th>3</th>\n",
              "      <td>Item1</td>\n",
              "      <td>Silver</td>\n",
              "      <td>4</td>\n",
              "    </tr>\n",
              "  </tbody>\n",
              "</table>\n",
              "</div>"
            ],
            "text/plain": [
              "    col1             col2  col3\n",
              "0  Item0             Gold     1\n",
              "1  Item0  Bronze and Gold     2\n",
              "2  Item1             Gold     3\n",
              "3  Item1           Silver     4"
            ]
          },
          "metadata": {
            "tags": []
          },
          "execution_count": 35
        }
      ]
    },
    {
      "metadata": {
        "id": "R1-XPQlGYnWZ",
        "colab_type": "code",
        "colab": {
          "base_uri": "https://localhost:8080/",
          "height": 166
        },
        "outputId": "d110bac6-0ca1-4cf4-b80b-cb738fa4154e"
      },
      "cell_type": "code",
      "source": [
        "# 행번호, 열번호로 조회 & 수정\n",
        "df1.iloc[1, 1] = 'Bronze again' \n",
        "df1"
      ],
      "execution_count": 36,
      "outputs": [
        {
          "output_type": "execute_result",
          "data": {
            "text/html": [
              "<div>\n",
              "<style scoped>\n",
              "    .dataframe tbody tr th:only-of-type {\n",
              "        vertical-align: middle;\n",
              "    }\n",
              "\n",
              "    .dataframe tbody tr th {\n",
              "        vertical-align: top;\n",
              "    }\n",
              "\n",
              "    .dataframe thead th {\n",
              "        text-align: right;\n",
              "    }\n",
              "</style>\n",
              "<table border=\"1\" class=\"dataframe\">\n",
              "  <thead>\n",
              "    <tr style=\"text-align: right;\">\n",
              "      <th></th>\n",
              "      <th>col1</th>\n",
              "      <th>col2</th>\n",
              "      <th>col3</th>\n",
              "    </tr>\n",
              "  </thead>\n",
              "  <tbody>\n",
              "    <tr>\n",
              "      <th>0</th>\n",
              "      <td>Item0</td>\n",
              "      <td>Gold</td>\n",
              "      <td>1</td>\n",
              "    </tr>\n",
              "    <tr>\n",
              "      <th>1</th>\n",
              "      <td>Item0</td>\n",
              "      <td>Bronze again</td>\n",
              "      <td>2</td>\n",
              "    </tr>\n",
              "    <tr>\n",
              "      <th>2</th>\n",
              "      <td>Item1</td>\n",
              "      <td>Gold</td>\n",
              "      <td>3</td>\n",
              "    </tr>\n",
              "    <tr>\n",
              "      <th>3</th>\n",
              "      <td>Item1</td>\n",
              "      <td>Silver</td>\n",
              "      <td>4</td>\n",
              "    </tr>\n",
              "  </tbody>\n",
              "</table>\n",
              "</div>"
            ],
            "text/plain": [
              "    col1          col2  col3\n",
              "0  Item0          Gold     1\n",
              "1  Item0  Bronze again     2\n",
              "2  Item1          Gold     3\n",
              "3  Item1        Silver     4"
            ]
          },
          "metadata": {
            "tags": []
          },
          "execution_count": 36
        }
      ]
    },
    {
      "metadata": {
        "id": "yEsX-qE1YnWb",
        "colab_type": "code",
        "colab": {
          "base_uri": "https://localhost:8080/",
          "height": 166
        },
        "outputId": "45c77e62-9a78-4d0a-a0af-ed8ed03c2a81"
      },
      "cell_type": "code",
      "source": [
        "# Replaces the column with the array. It could be a numpy array or a simple list.\n",
        "# Could also be used to create new columns\n",
        "df1.loc[1:3, 'col3'] = ['Unknown0'] * 3\n",
        "df1"
      ],
      "execution_count": 37,
      "outputs": [
        {
          "output_type": "execute_result",
          "data": {
            "text/html": [
              "<div>\n",
              "<style scoped>\n",
              "    .dataframe tbody tr th:only-of-type {\n",
              "        vertical-align: middle;\n",
              "    }\n",
              "\n",
              "    .dataframe tbody tr th {\n",
              "        vertical-align: top;\n",
              "    }\n",
              "\n",
              "    .dataframe thead th {\n",
              "        text-align: right;\n",
              "    }\n",
              "</style>\n",
              "<table border=\"1\" class=\"dataframe\">\n",
              "  <thead>\n",
              "    <tr style=\"text-align: right;\">\n",
              "      <th></th>\n",
              "      <th>col1</th>\n",
              "      <th>col2</th>\n",
              "      <th>col3</th>\n",
              "    </tr>\n",
              "  </thead>\n",
              "  <tbody>\n",
              "    <tr>\n",
              "      <th>0</th>\n",
              "      <td>Item0</td>\n",
              "      <td>Gold</td>\n",
              "      <td>1</td>\n",
              "    </tr>\n",
              "    <tr>\n",
              "      <th>1</th>\n",
              "      <td>Item0</td>\n",
              "      <td>Bronze again</td>\n",
              "      <td>Unknown0</td>\n",
              "    </tr>\n",
              "    <tr>\n",
              "      <th>2</th>\n",
              "      <td>Item1</td>\n",
              "      <td>Gold</td>\n",
              "      <td>Unknown0</td>\n",
              "    </tr>\n",
              "    <tr>\n",
              "      <th>3</th>\n",
              "      <td>Item1</td>\n",
              "      <td>Silver</td>\n",
              "      <td>Unknown0</td>\n",
              "    </tr>\n",
              "  </tbody>\n",
              "</table>\n",
              "</div>"
            ],
            "text/plain": [
              "    col1          col2      col3\n",
              "0  Item0          Gold         1\n",
              "1  Item0  Bronze again  Unknown0\n",
              "2  Item1          Gold  Unknown0\n",
              "3  Item1        Silver  Unknown0"
            ]
          },
          "metadata": {
            "tags": []
          },
          "execution_count": 37
        }
      ]
    },
    {
      "metadata": {
        "id": "T99Ze5zpYnWd",
        "colab_type": "code",
        "colab": {
          "base_uri": "https://localhost:8080/",
          "height": 166
        },
        "outputId": "ad1c3596-1d99-4fe4-ca08-644fc271cda2"
      },
      "cell_type": "code",
      "source": [
        "# Equivalent to the previous\n",
        "df1.col3 = ['Unknown1'] * len(df1) \n",
        "df1\n",
        "\n",
        "# 위와 동일하게 동작하는 코드\n",
        "# df1.loc[:, 'col3'] = ['Unknown2'] * len(df1)"
      ],
      "execution_count": 38,
      "outputs": [
        {
          "output_type": "execute_result",
          "data": {
            "text/html": [
              "<div>\n",
              "<style scoped>\n",
              "    .dataframe tbody tr th:only-of-type {\n",
              "        vertical-align: middle;\n",
              "    }\n",
              "\n",
              "    .dataframe tbody tr th {\n",
              "        vertical-align: top;\n",
              "    }\n",
              "\n",
              "    .dataframe thead th {\n",
              "        text-align: right;\n",
              "    }\n",
              "</style>\n",
              "<table border=\"1\" class=\"dataframe\">\n",
              "  <thead>\n",
              "    <tr style=\"text-align: right;\">\n",
              "      <th></th>\n",
              "      <th>col1</th>\n",
              "      <th>col2</th>\n",
              "      <th>col3</th>\n",
              "    </tr>\n",
              "  </thead>\n",
              "  <tbody>\n",
              "    <tr>\n",
              "      <th>0</th>\n",
              "      <td>Item0</td>\n",
              "      <td>Gold</td>\n",
              "      <td>Unknown1</td>\n",
              "    </tr>\n",
              "    <tr>\n",
              "      <th>1</th>\n",
              "      <td>Item0</td>\n",
              "      <td>Bronze again</td>\n",
              "      <td>Unknown1</td>\n",
              "    </tr>\n",
              "    <tr>\n",
              "      <th>2</th>\n",
              "      <td>Item1</td>\n",
              "      <td>Gold</td>\n",
              "      <td>Unknown1</td>\n",
              "    </tr>\n",
              "    <tr>\n",
              "      <th>3</th>\n",
              "      <td>Item1</td>\n",
              "      <td>Silver</td>\n",
              "      <td>Unknown1</td>\n",
              "    </tr>\n",
              "  </tbody>\n",
              "</table>\n",
              "</div>"
            ],
            "text/plain": [
              "    col1          col2      col3\n",
              "0  Item0          Gold  Unknown1\n",
              "1  Item0  Bronze again  Unknown1\n",
              "2  Item1          Gold  Unknown1\n",
              "3  Item1        Silver  Unknown1"
            ]
          },
          "metadata": {
            "tags": []
          },
          "execution_count": 38
        }
      ]
    },
    {
      "metadata": {
        "id": "HgUE2xseYnWe",
        "colab_type": "code",
        "colab": {
          "base_uri": "https://localhost:8080/",
          "height": 221
        },
        "outputId": "20f17e9c-e2af-42bc-c60c-a730f87615c7"
      },
      "cell_type": "code",
      "source": [
        "def f(x):\n",
        "    return x + ' New Column';\n",
        "\n",
        "# Uses the unary function f to create a new column based on an existing one\n",
        "df1.col4 = f(df1.col3) \n",
        "df1"
      ],
      "execution_count": 39,
      "outputs": [
        {
          "output_type": "stream",
          "text": [
            "/usr/local/lib/python3.6/dist-packages/ipykernel_launcher.py:5: UserWarning: Pandas doesn't allow columns to be created via a new attribute name - see https://pandas.pydata.org/pandas-docs/stable/indexing.html#attribute-access\n",
            "  \"\"\"\n"
          ],
          "name": "stderr"
        },
        {
          "output_type": "execute_result",
          "data": {
            "text/html": [
              "<div>\n",
              "<style scoped>\n",
              "    .dataframe tbody tr th:only-of-type {\n",
              "        vertical-align: middle;\n",
              "    }\n",
              "\n",
              "    .dataframe tbody tr th {\n",
              "        vertical-align: top;\n",
              "    }\n",
              "\n",
              "    .dataframe thead th {\n",
              "        text-align: right;\n",
              "    }\n",
              "</style>\n",
              "<table border=\"1\" class=\"dataframe\">\n",
              "  <thead>\n",
              "    <tr style=\"text-align: right;\">\n",
              "      <th></th>\n",
              "      <th>col1</th>\n",
              "      <th>col2</th>\n",
              "      <th>col3</th>\n",
              "    </tr>\n",
              "  </thead>\n",
              "  <tbody>\n",
              "    <tr>\n",
              "      <th>0</th>\n",
              "      <td>Item0</td>\n",
              "      <td>Gold</td>\n",
              "      <td>Unknown1</td>\n",
              "    </tr>\n",
              "    <tr>\n",
              "      <th>1</th>\n",
              "      <td>Item0</td>\n",
              "      <td>Bronze again</td>\n",
              "      <td>Unknown1</td>\n",
              "    </tr>\n",
              "    <tr>\n",
              "      <th>2</th>\n",
              "      <td>Item1</td>\n",
              "      <td>Gold</td>\n",
              "      <td>Unknown1</td>\n",
              "    </tr>\n",
              "    <tr>\n",
              "      <th>3</th>\n",
              "      <td>Item1</td>\n",
              "      <td>Silver</td>\n",
              "      <td>Unknown1</td>\n",
              "    </tr>\n",
              "  </tbody>\n",
              "</table>\n",
              "</div>"
            ],
            "text/plain": [
              "    col1          col2      col3\n",
              "0  Item0          Gold  Unknown1\n",
              "1  Item0  Bronze again  Unknown1\n",
              "2  Item1          Gold  Unknown1\n",
              "3  Item1        Silver  Unknown1"
            ]
          },
          "metadata": {
            "tags": []
          },
          "execution_count": 39
        }
      ]
    },
    {
      "metadata": {
        "id": "GTuJRwBeYnWg",
        "colab_type": "code",
        "colab": {
          "base_uri": "https://localhost:8080/",
          "height": 166
        },
        "outputId": "6d7fecea-e78c-44a6-b7c8-38a026cbe863"
      },
      "cell_type": "code",
      "source": [
        "def g(x, y):\n",
        "    return x + '_' + y\n",
        "\n",
        "# Uses the 2-arg function g to create a new column based on 2 existing columns\n",
        "df1.col4 = g(df1.col3, df1.col2)\n",
        "df1"
      ],
      "execution_count": 40,
      "outputs": [
        {
          "output_type": "execute_result",
          "data": {
            "text/html": [
              "<div>\n",
              "<style scoped>\n",
              "    .dataframe tbody tr th:only-of-type {\n",
              "        vertical-align: middle;\n",
              "    }\n",
              "\n",
              "    .dataframe tbody tr th {\n",
              "        vertical-align: top;\n",
              "    }\n",
              "\n",
              "    .dataframe thead th {\n",
              "        text-align: right;\n",
              "    }\n",
              "</style>\n",
              "<table border=\"1\" class=\"dataframe\">\n",
              "  <thead>\n",
              "    <tr style=\"text-align: right;\">\n",
              "      <th></th>\n",
              "      <th>col1</th>\n",
              "      <th>col2</th>\n",
              "      <th>col3</th>\n",
              "    </tr>\n",
              "  </thead>\n",
              "  <tbody>\n",
              "    <tr>\n",
              "      <th>0</th>\n",
              "      <td>Item0</td>\n",
              "      <td>Gold</td>\n",
              "      <td>Unknown1</td>\n",
              "    </tr>\n",
              "    <tr>\n",
              "      <th>1</th>\n",
              "      <td>Item0</td>\n",
              "      <td>Bronze again</td>\n",
              "      <td>Unknown1</td>\n",
              "    </tr>\n",
              "    <tr>\n",
              "      <th>2</th>\n",
              "      <td>Item1</td>\n",
              "      <td>Gold</td>\n",
              "      <td>Unknown1</td>\n",
              "    </tr>\n",
              "    <tr>\n",
              "      <th>3</th>\n",
              "      <td>Item1</td>\n",
              "      <td>Silver</td>\n",
              "      <td>Unknown1</td>\n",
              "    </tr>\n",
              "  </tbody>\n",
              "</table>\n",
              "</div>"
            ],
            "text/plain": [
              "    col1          col2      col3\n",
              "0  Item0          Gold  Unknown1\n",
              "1  Item0  Bronze again  Unknown1\n",
              "2  Item1          Gold  Unknown1\n",
              "3  Item1        Silver  Unknown1"
            ]
          },
          "metadata": {
            "tags": []
          },
          "execution_count": 40
        }
      ]
    },
    {
      "metadata": {
        "id": "viBEuv5gYnWi",
        "colab_type": "code",
        "colab": {
          "base_uri": "https://localhost:8080/",
          "height": 633
        },
        "outputId": "09f6093f-994b-49da-8b3f-1d4ce727f14c"
      },
      "cell_type": "code",
      "source": [
        "df = pd.read_csv('./Graduate_apply.csv', sep=',', skipinitialspace=True, engine='python')\n",
        "print(df.head())\n",
        "print(\"------\")\n",
        "\n",
        "# 특정 칼럼의 Dummy Variable을 얻기\n",
        "df_rank = pd.get_dummies(df['rank'])\n",
        "print(df_rank.head())\n",
        "print(\"------\")\n",
        "\n",
        "# Dummy 데이터를 원래 데이터와 합치기\n",
        "df_new = pd.concat([df, df_rank], axis=1)\n",
        "print(df_new.head())\n",
        "print(\"------\")\n",
        "\n",
        "# 특정 칼럼 제거하기\n",
        "df_new.drop('rank', axis=1, inplace=True)\n",
        "print(df_new.head())\n",
        "print(\"------\")\n",
        "\n",
        "# 여러 칼럼 동시 제거하기\n",
        "df_new.drop(['gre', 'gpa'], axis=1, inplace=True)\n",
        "print(df_new.head())\n",
        "print(\"------\")\n"
      ],
      "execution_count": 43,
      "outputs": [
        {
          "output_type": "stream",
          "text": [
            "   admit  gre   gpa  rank\n",
            "0      0  380  3.61     3\n",
            "1      1  660  3.67     3\n",
            "2      1  800  4.00     1\n",
            "3      1  640  3.19     4\n",
            "4      0  520  2.93     4\n",
            "------\n",
            "   1  2  3  4\n",
            "0  0  0  1  0\n",
            "1  0  0  1  0\n",
            "2  1  0  0  0\n",
            "3  0  0  0  1\n",
            "4  0  0  0  1\n",
            "------\n",
            "   admit  gre   gpa  rank  1  2  3  4\n",
            "0      0  380  3.61     3  0  0  1  0\n",
            "1      1  660  3.67     3  0  0  1  0\n",
            "2      1  800  4.00     1  1  0  0  0\n",
            "3      1  640  3.19     4  0  0  0  1\n",
            "4      0  520  2.93     4  0  0  0  1\n",
            "------\n",
            "   admit  gre   gpa  1  2  3  4\n",
            "0      0  380  3.61  0  0  1  0\n",
            "1      1  660  3.67  0  0  1  0\n",
            "2      1  800  4.00  1  0  0  0\n",
            "3      1  640  3.19  0  0  0  1\n",
            "4      0  520  2.93  0  0  0  1\n",
            "------\n",
            "   admit  1  2  3  4\n",
            "0      0  0  0  1  0\n",
            "1      1  0  0  1  0\n",
            "2      1  1  0  0  0\n",
            "3      1  0  0  0  1\n",
            "4      0  0  0  0  1\n",
            "------\n"
          ],
          "name": "stdout"
        }
      ]
    },
    {
      "metadata": {
        "id": "hElggTFXYnWj",
        "colab_type": "text"
      },
      "cell_type": "markdown",
      "source": [
        "## 06. Group by, Join, Rolling"
      ]
    },
    {
      "metadata": {
        "id": "CHtasZFrp_Ze",
        "colab_type": "code",
        "colab": {}
      },
      "cell_type": "code",
      "source": [
        "import pandas as pd"
      ],
      "execution_count": 0,
      "outputs": []
    },
    {
      "metadata": {
        "id": "SOiVUXk_nlEl",
        "colab_type": "code",
        "colab": {}
      },
      "cell_type": "code",
      "source": [
        "df = pd.read_csv('https://raw.githubusercontent.com/RayleighKim/Example_datasets/master/Graduate_apply.csv')"
      ],
      "execution_count": 0,
      "outputs": []
    },
    {
      "metadata": {
        "id": "6Xf-zqwppPZK",
        "colab_type": "code",
        "colab": {
          "base_uri": "https://localhost:8080/",
          "height": 154
        },
        "outputId": "e6f60114-9962-429e-ff1b-18c56ae8488b"
      },
      "cell_type": "code",
      "source": [
        "print(df.shape)\n",
        "df.head(3)"
      ],
      "execution_count": 165,
      "outputs": [
        {
          "output_type": "stream",
          "text": [
            "(400, 4)\n"
          ],
          "name": "stdout"
        },
        {
          "output_type": "execute_result",
          "data": {
            "text/html": [
              "<div>\n",
              "<style scoped>\n",
              "    .dataframe tbody tr th:only-of-type {\n",
              "        vertical-align: middle;\n",
              "    }\n",
              "\n",
              "    .dataframe tbody tr th {\n",
              "        vertical-align: top;\n",
              "    }\n",
              "\n",
              "    .dataframe thead th {\n",
              "        text-align: right;\n",
              "    }\n",
              "</style>\n",
              "<table border=\"1\" class=\"dataframe\">\n",
              "  <thead>\n",
              "    <tr style=\"text-align: right;\">\n",
              "      <th></th>\n",
              "      <th>admit</th>\n",
              "      <th>gre</th>\n",
              "      <th>gpa</th>\n",
              "      <th>rank</th>\n",
              "    </tr>\n",
              "  </thead>\n",
              "  <tbody>\n",
              "    <tr>\n",
              "      <th>0</th>\n",
              "      <td>0</td>\n",
              "      <td>380</td>\n",
              "      <td>3.61</td>\n",
              "      <td>3</td>\n",
              "    </tr>\n",
              "    <tr>\n",
              "      <th>1</th>\n",
              "      <td>1</td>\n",
              "      <td>660</td>\n",
              "      <td>3.67</td>\n",
              "      <td>3</td>\n",
              "    </tr>\n",
              "    <tr>\n",
              "      <th>2</th>\n",
              "      <td>1</td>\n",
              "      <td>800</td>\n",
              "      <td>4.00</td>\n",
              "      <td>1</td>\n",
              "    </tr>\n",
              "  </tbody>\n",
              "</table>\n",
              "</div>"
            ],
            "text/plain": [
              "   admit  gre   gpa  rank\n",
              "0      0  380  3.61     3\n",
              "1      1  660  3.67     3\n",
              "2      1  800  4.00     1"
            ]
          },
          "metadata": {
            "tags": []
          },
          "execution_count": 165
        }
      ]
    },
    {
      "metadata": {
        "id": "WyEJHpYDElt1",
        "colab_type": "text"
      },
      "cell_type": "markdown",
      "source": [
        "[고군분투의 흔적](https://www.facebook.com/photo.php?fbid=1939114629501924&set=a.1046527102094019&type=3)"
      ]
    },
    {
      "metadata": {
        "id": "QiqL2q7spSvA",
        "colab_type": "text"
      },
      "cell_type": "markdown",
      "source": [
        "### 06-1. Group by"
      ]
    },
    {
      "metadata": {
        "id": "3QvS6b-R43tO",
        "colab_type": "text"
      },
      "cell_type": "markdown",
      "source": [
        "일단 단순한 수준에서 겪어보자"
      ]
    },
    {
      "metadata": {
        "id": "BJzZz0mWBVxR",
        "colab_type": "code",
        "colab": {
          "base_uri": "https://localhost:8080/",
          "height": 166
        },
        "outputId": "81df880c-793e-4237-f6af-e62d837c5d00"
      },
      "cell_type": "code",
      "source": [
        "df.groupby(by=['rank'], as_index = False)['gre'].mean()"
      ],
      "execution_count": 167,
      "outputs": [
        {
          "output_type": "execute_result",
          "data": {
            "text/html": [
              "<div>\n",
              "<style scoped>\n",
              "    .dataframe tbody tr th:only-of-type {\n",
              "        vertical-align: middle;\n",
              "    }\n",
              "\n",
              "    .dataframe tbody tr th {\n",
              "        vertical-align: top;\n",
              "    }\n",
              "\n",
              "    .dataframe thead th {\n",
              "        text-align: right;\n",
              "    }\n",
              "</style>\n",
              "<table border=\"1\" class=\"dataframe\">\n",
              "  <thead>\n",
              "    <tr style=\"text-align: right;\">\n",
              "      <th></th>\n",
              "      <th>rank</th>\n",
              "      <th>gre</th>\n",
              "    </tr>\n",
              "  </thead>\n",
              "  <tbody>\n",
              "    <tr>\n",
              "      <th>0</th>\n",
              "      <td>1</td>\n",
              "      <td>611.803279</td>\n",
              "    </tr>\n",
              "    <tr>\n",
              "      <th>1</th>\n",
              "      <td>2</td>\n",
              "      <td>596.026490</td>\n",
              "    </tr>\n",
              "    <tr>\n",
              "      <th>2</th>\n",
              "      <td>3</td>\n",
              "      <td>574.876033</td>\n",
              "    </tr>\n",
              "    <tr>\n",
              "      <th>3</th>\n",
              "      <td>4</td>\n",
              "      <td>570.149254</td>\n",
              "    </tr>\n",
              "  </tbody>\n",
              "</table>\n",
              "</div>"
            ],
            "text/plain": [
              "   rank         gre\n",
              "0     1  611.803279\n",
              "1     2  596.026490\n",
              "2     3  574.876033\n",
              "3     4  570.149254"
            ]
          },
          "metadata": {
            "tags": []
          },
          "execution_count": 167
        }
      ]
    },
    {
      "metadata": {
        "id": "50rc3HRevz-p",
        "colab_type": "code",
        "colab": {
          "base_uri": "https://localhost:8080/",
          "height": 284
        },
        "outputId": "895e23d0-f998-4dda-f85e-9ac74d51e7f9"
      },
      "cell_type": "code",
      "source": [
        "df.groupby(by = ['rank', 'admit'], as_index=False)['gre', 'gpa'].mean()"
      ],
      "execution_count": 63,
      "outputs": [
        {
          "output_type": "execute_result",
          "data": {
            "text/html": [
              "<div>\n",
              "<style scoped>\n",
              "    .dataframe tbody tr th:only-of-type {\n",
              "        vertical-align: middle;\n",
              "    }\n",
              "\n",
              "    .dataframe tbody tr th {\n",
              "        vertical-align: top;\n",
              "    }\n",
              "\n",
              "    .dataframe thead th {\n",
              "        text-align: right;\n",
              "    }\n",
              "</style>\n",
              "<table border=\"1\" class=\"dataframe\">\n",
              "  <thead>\n",
              "    <tr style=\"text-align: right;\">\n",
              "      <th></th>\n",
              "      <th>rank</th>\n",
              "      <th>admit</th>\n",
              "      <th>gre</th>\n",
              "      <th>gpa</th>\n",
              "    </tr>\n",
              "  </thead>\n",
              "  <tbody>\n",
              "    <tr>\n",
              "      <th>0</th>\n",
              "      <td>1</td>\n",
              "      <td>0</td>\n",
              "      <td>582.857143</td>\n",
              "      <td>3.345714</td>\n",
              "    </tr>\n",
              "    <tr>\n",
              "      <th>1</th>\n",
              "      <td>1</td>\n",
              "      <td>1</td>\n",
              "      <td>636.363636</td>\n",
              "      <td>3.544242</td>\n",
              "    </tr>\n",
              "    <tr>\n",
              "      <th>2</th>\n",
              "      <td>2</td>\n",
              "      <td>0</td>\n",
              "      <td>586.597938</td>\n",
              "      <td>3.316598</td>\n",
              "    </tr>\n",
              "    <tr>\n",
              "      <th>3</th>\n",
              "      <td>2</td>\n",
              "      <td>1</td>\n",
              "      <td>612.962963</td>\n",
              "      <td>3.442593</td>\n",
              "    </tr>\n",
              "    <tr>\n",
              "      <th>4</th>\n",
              "      <td>3</td>\n",
              "      <td>0</td>\n",
              "      <td>562.365591</td>\n",
              "      <td>3.402258</td>\n",
              "    </tr>\n",
              "    <tr>\n",
              "      <th>5</th>\n",
              "      <td>3</td>\n",
              "      <td>1</td>\n",
              "      <td>616.428571</td>\n",
              "      <td>3.534643</td>\n",
              "    </tr>\n",
              "    <tr>\n",
              "      <th>6</th>\n",
              "      <td>4</td>\n",
              "      <td>0</td>\n",
              "      <td>562.909091</td>\n",
              "      <td>3.291455</td>\n",
              "    </tr>\n",
              "    <tr>\n",
              "      <th>7</th>\n",
              "      <td>4</td>\n",
              "      <td>1</td>\n",
              "      <td>603.333333</td>\n",
              "      <td>3.441667</td>\n",
              "    </tr>\n",
              "  </tbody>\n",
              "</table>\n",
              "</div>"
            ],
            "text/plain": [
              "   rank  admit         gre       gpa\n",
              "0     1      0  582.857143  3.345714\n",
              "1     1      1  636.363636  3.544242\n",
              "2     2      0  586.597938  3.316598\n",
              "3     2      1  612.962963  3.442593\n",
              "4     3      0  562.365591  3.402258\n",
              "5     3      1  616.428571  3.534643\n",
              "6     4      0  562.909091  3.291455\n",
              "7     4      1  603.333333  3.441667"
            ]
          },
          "metadata": {
            "tags": []
          },
          "execution_count": 63
        }
      ]
    },
    {
      "metadata": {
        "id": "sVNr7qJL4Zvh",
        "colab_type": "code",
        "colab": {
          "base_uri": "https://localhost:8080/",
          "height": 284
        },
        "outputId": "6be6cd48-f69a-4c9a-cb09-be60e52c5024"
      },
      "cell_type": "code",
      "source": [
        "df.groupby(by = ['rank', 'admit'], as_index=False)['gre', 'gpa'].std()"
      ],
      "execution_count": 140,
      "outputs": [
        {
          "output_type": "execute_result",
          "data": {
            "text/html": [
              "<div>\n",
              "<style scoped>\n",
              "    .dataframe tbody tr th:only-of-type {\n",
              "        vertical-align: middle;\n",
              "    }\n",
              "\n",
              "    .dataframe tbody tr th {\n",
              "        vertical-align: top;\n",
              "    }\n",
              "\n",
              "    .dataframe thead th {\n",
              "        text-align: right;\n",
              "    }\n",
              "</style>\n",
              "<table border=\"1\" class=\"dataframe\">\n",
              "  <thead>\n",
              "    <tr style=\"text-align: right;\">\n",
              "      <th></th>\n",
              "      <th>rank</th>\n",
              "      <th>admit</th>\n",
              "      <th>gre</th>\n",
              "      <th>gpa</th>\n",
              "    </tr>\n",
              "  </thead>\n",
              "  <tbody>\n",
              "    <tr>\n",
              "      <th>0</th>\n",
              "      <td>1.000000</td>\n",
              "      <td>0.0</td>\n",
              "      <td>126.574737</td>\n",
              "      <td>0.375445</td>\n",
              "    </tr>\n",
              "    <tr>\n",
              "      <th>1</th>\n",
              "      <td>1.000000</td>\n",
              "      <td>1.0</td>\n",
              "      <td>110.618098</td>\n",
              "      <td>0.385511</td>\n",
              "    </tr>\n",
              "    <tr>\n",
              "      <th>2</th>\n",
              "      <td>1.414214</td>\n",
              "      <td>0.0</td>\n",
              "      <td>103.066388</td>\n",
              "      <td>0.377927</td>\n",
              "    </tr>\n",
              "    <tr>\n",
              "      <th>3</th>\n",
              "      <td>1.414214</td>\n",
              "      <td>1.0</td>\n",
              "      <td>112.746663</td>\n",
              "      <td>0.361653</td>\n",
              "    </tr>\n",
              "    <tr>\n",
              "      <th>4</th>\n",
              "      <td>1.732051</td>\n",
              "      <td>0.0</td>\n",
              "      <td>124.650798</td>\n",
              "      <td>0.379434</td>\n",
              "    </tr>\n",
              "    <tr>\n",
              "      <th>5</th>\n",
              "      <td>1.732051</td>\n",
              "      <td>1.0</td>\n",
              "      <td>99.785484</td>\n",
              "      <td>0.399244</td>\n",
              "    </tr>\n",
              "    <tr>\n",
              "      <th>6</th>\n",
              "      <td>2.000000</td>\n",
              "      <td>0.0</td>\n",
              "      <td>116.327646</td>\n",
              "      <td>0.369767</td>\n",
              "    </tr>\n",
              "    <tr>\n",
              "      <th>7</th>\n",
              "      <td>2.000000</td>\n",
              "      <td>1.0</td>\n",
              "      <td>114.680056</td>\n",
              "      <td>0.297286</td>\n",
              "    </tr>\n",
              "  </tbody>\n",
              "</table>\n",
              "</div>"
            ],
            "text/plain": [
              "       rank  admit         gre       gpa\n",
              "0  1.000000    0.0  126.574737  0.375445\n",
              "1  1.000000    1.0  110.618098  0.385511\n",
              "2  1.414214    0.0  103.066388  0.377927\n",
              "3  1.414214    1.0  112.746663  0.361653\n",
              "4  1.732051    0.0  124.650798  0.379434\n",
              "5  1.732051    1.0   99.785484  0.399244\n",
              "6  2.000000    0.0  116.327646  0.369767\n",
              "7  2.000000    1.0  114.680056  0.297286"
            ]
          },
          "metadata": {
            "tags": []
          },
          "execution_count": 140
        }
      ]
    },
    {
      "metadata": {
        "id": "jYEDqpc11tc-",
        "colab_type": "code",
        "colab": {
          "base_uri": "https://localhost:8080/",
          "height": 284
        },
        "outputId": "339d6bec-7077-4d51-b2de-f0b9eb773329"
      },
      "cell_type": "code",
      "source": [
        "df.groupby(by = ['rank', 'admit'], as_index=False).count()"
      ],
      "execution_count": 77,
      "outputs": [
        {
          "output_type": "execute_result",
          "data": {
            "text/html": [
              "<div>\n",
              "<style scoped>\n",
              "    .dataframe tbody tr th:only-of-type {\n",
              "        vertical-align: middle;\n",
              "    }\n",
              "\n",
              "    .dataframe tbody tr th {\n",
              "        vertical-align: top;\n",
              "    }\n",
              "\n",
              "    .dataframe thead th {\n",
              "        text-align: right;\n",
              "    }\n",
              "</style>\n",
              "<table border=\"1\" class=\"dataframe\">\n",
              "  <thead>\n",
              "    <tr style=\"text-align: right;\">\n",
              "      <th></th>\n",
              "      <th>rank</th>\n",
              "      <th>admit</th>\n",
              "      <th>gre</th>\n",
              "      <th>gpa</th>\n",
              "    </tr>\n",
              "  </thead>\n",
              "  <tbody>\n",
              "    <tr>\n",
              "      <th>0</th>\n",
              "      <td>1</td>\n",
              "      <td>0</td>\n",
              "      <td>28</td>\n",
              "      <td>28</td>\n",
              "    </tr>\n",
              "    <tr>\n",
              "      <th>1</th>\n",
              "      <td>1</td>\n",
              "      <td>1</td>\n",
              "      <td>33</td>\n",
              "      <td>33</td>\n",
              "    </tr>\n",
              "    <tr>\n",
              "      <th>2</th>\n",
              "      <td>2</td>\n",
              "      <td>0</td>\n",
              "      <td>97</td>\n",
              "      <td>97</td>\n",
              "    </tr>\n",
              "    <tr>\n",
              "      <th>3</th>\n",
              "      <td>2</td>\n",
              "      <td>1</td>\n",
              "      <td>54</td>\n",
              "      <td>54</td>\n",
              "    </tr>\n",
              "    <tr>\n",
              "      <th>4</th>\n",
              "      <td>3</td>\n",
              "      <td>0</td>\n",
              "      <td>93</td>\n",
              "      <td>93</td>\n",
              "    </tr>\n",
              "    <tr>\n",
              "      <th>5</th>\n",
              "      <td>3</td>\n",
              "      <td>1</td>\n",
              "      <td>28</td>\n",
              "      <td>28</td>\n",
              "    </tr>\n",
              "    <tr>\n",
              "      <th>6</th>\n",
              "      <td>4</td>\n",
              "      <td>0</td>\n",
              "      <td>55</td>\n",
              "      <td>55</td>\n",
              "    </tr>\n",
              "    <tr>\n",
              "      <th>7</th>\n",
              "      <td>4</td>\n",
              "      <td>1</td>\n",
              "      <td>12</td>\n",
              "      <td>12</td>\n",
              "    </tr>\n",
              "  </tbody>\n",
              "</table>\n",
              "</div>"
            ],
            "text/plain": [
              "   rank  admit  gre  gpa\n",
              "0     1      0   28   28\n",
              "1     1      1   33   33\n",
              "2     2      0   97   97\n",
              "3     2      1   54   54\n",
              "4     3      0   93   93\n",
              "5     3      1   28   28\n",
              "6     4      0   55   55\n",
              "7     4      1   12   12"
            ]
          },
          "metadata": {
            "tags": []
          },
          "execution_count": 77
        }
      ]
    },
    {
      "metadata": {
        "id": "KG1Fa-rG5Qpd",
        "colab_type": "code",
        "colab": {
          "base_uri": "https://localhost:8080/",
          "height": 284
        },
        "outputId": "23a89bdf-e42c-4f91-b105-117aa16a6e29"
      },
      "cell_type": "code",
      "source": [
        "df.groupby(by = ['rank', 'admit'], as_index=False)['gre'].count()"
      ],
      "execution_count": 79,
      "outputs": [
        {
          "output_type": "execute_result",
          "data": {
            "text/html": [
              "<div>\n",
              "<style scoped>\n",
              "    .dataframe tbody tr th:only-of-type {\n",
              "        vertical-align: middle;\n",
              "    }\n",
              "\n",
              "    .dataframe tbody tr th {\n",
              "        vertical-align: top;\n",
              "    }\n",
              "\n",
              "    .dataframe thead th {\n",
              "        text-align: right;\n",
              "    }\n",
              "</style>\n",
              "<table border=\"1\" class=\"dataframe\">\n",
              "  <thead>\n",
              "    <tr style=\"text-align: right;\">\n",
              "      <th></th>\n",
              "      <th>rank</th>\n",
              "      <th>admit</th>\n",
              "      <th>gre</th>\n",
              "    </tr>\n",
              "  </thead>\n",
              "  <tbody>\n",
              "    <tr>\n",
              "      <th>0</th>\n",
              "      <td>1</td>\n",
              "      <td>0</td>\n",
              "      <td>28</td>\n",
              "    </tr>\n",
              "    <tr>\n",
              "      <th>1</th>\n",
              "      <td>1</td>\n",
              "      <td>1</td>\n",
              "      <td>33</td>\n",
              "    </tr>\n",
              "    <tr>\n",
              "      <th>2</th>\n",
              "      <td>2</td>\n",
              "      <td>0</td>\n",
              "      <td>97</td>\n",
              "    </tr>\n",
              "    <tr>\n",
              "      <th>3</th>\n",
              "      <td>2</td>\n",
              "      <td>1</td>\n",
              "      <td>54</td>\n",
              "    </tr>\n",
              "    <tr>\n",
              "      <th>4</th>\n",
              "      <td>3</td>\n",
              "      <td>0</td>\n",
              "      <td>93</td>\n",
              "    </tr>\n",
              "    <tr>\n",
              "      <th>5</th>\n",
              "      <td>3</td>\n",
              "      <td>1</td>\n",
              "      <td>28</td>\n",
              "    </tr>\n",
              "    <tr>\n",
              "      <th>6</th>\n",
              "      <td>4</td>\n",
              "      <td>0</td>\n",
              "      <td>55</td>\n",
              "    </tr>\n",
              "    <tr>\n",
              "      <th>7</th>\n",
              "      <td>4</td>\n",
              "      <td>1</td>\n",
              "      <td>12</td>\n",
              "    </tr>\n",
              "  </tbody>\n",
              "</table>\n",
              "</div>"
            ],
            "text/plain": [
              "   rank  admit  gre\n",
              "0     1      0   28\n",
              "1     1      1   33\n",
              "2     2      0   97\n",
              "3     2      1   54\n",
              "4     3      0   93\n",
              "5     3      1   28\n",
              "6     4      0   55\n",
              "7     4      1   12"
            ]
          },
          "metadata": {
            "tags": []
          },
          "execution_count": 79
        }
      ]
    },
    {
      "metadata": {
        "id": "F22Encp0pMEf",
        "colab_type": "text"
      },
      "cell_type": "markdown",
      "source": [
        "이름들이 조금 이상하다. 컬럼이름을 바꾸어보자"
      ]
    },
    {
      "metadata": {
        "id": "U_opwEZU5WuF",
        "colab_type": "code",
        "colab": {
          "base_uri": "https://localhost:8080/",
          "height": 166
        },
        "outputId": "f19c2c6d-b1d4-4cde-dad2-0537fad24c3d"
      },
      "cell_type": "code",
      "source": [
        "df_by_rank = df.groupby(by = ['rank'], as_index=False)['gre'].mean()\n",
        "df_by_rank.head()"
      ],
      "execution_count": 83,
      "outputs": [
        {
          "output_type": "execute_result",
          "data": {
            "text/html": [
              "<div>\n",
              "<style scoped>\n",
              "    .dataframe tbody tr th:only-of-type {\n",
              "        vertical-align: middle;\n",
              "    }\n",
              "\n",
              "    .dataframe tbody tr th {\n",
              "        vertical-align: top;\n",
              "    }\n",
              "\n",
              "    .dataframe thead th {\n",
              "        text-align: right;\n",
              "    }\n",
              "</style>\n",
              "<table border=\"1\" class=\"dataframe\">\n",
              "  <thead>\n",
              "    <tr style=\"text-align: right;\">\n",
              "      <th></th>\n",
              "      <th>rank</th>\n",
              "      <th>gre</th>\n",
              "    </tr>\n",
              "  </thead>\n",
              "  <tbody>\n",
              "    <tr>\n",
              "      <th>0</th>\n",
              "      <td>1</td>\n",
              "      <td>611.803279</td>\n",
              "    </tr>\n",
              "    <tr>\n",
              "      <th>1</th>\n",
              "      <td>2</td>\n",
              "      <td>596.026490</td>\n",
              "    </tr>\n",
              "    <tr>\n",
              "      <th>2</th>\n",
              "      <td>3</td>\n",
              "      <td>574.876033</td>\n",
              "    </tr>\n",
              "    <tr>\n",
              "      <th>3</th>\n",
              "      <td>4</td>\n",
              "      <td>570.149254</td>\n",
              "    </tr>\n",
              "  </tbody>\n",
              "</table>\n",
              "</div>"
            ],
            "text/plain": [
              "   rank         gre\n",
              "0     1  611.803279\n",
              "1     2  596.026490\n",
              "2     3  574.876033\n",
              "3     4  570.149254"
            ]
          },
          "metadata": {
            "tags": []
          },
          "execution_count": 83
        }
      ]
    },
    {
      "metadata": {
        "id": "3DxjhoVX5jvH",
        "colab_type": "code",
        "colab": {}
      },
      "cell_type": "code",
      "source": [
        "if 'gre' in df_by_rank.columns :\n",
        "    df_by_rank.rename(columns={'gre':'gre_mean'}, inplace = True)"
      ],
      "execution_count": 0,
      "outputs": []
    },
    {
      "metadata": {
        "id": "QRj-BZfC5xpH",
        "colab_type": "code",
        "colab": {
          "base_uri": "https://localhost:8080/",
          "height": 166
        },
        "outputId": "be7ae64f-d414-45da-a0a8-b3c1b1858c49"
      },
      "cell_type": "code",
      "source": [
        "df_by_rank.head()"
      ],
      "execution_count": 89,
      "outputs": [
        {
          "output_type": "execute_result",
          "data": {
            "text/html": [
              "<div>\n",
              "<style scoped>\n",
              "    .dataframe tbody tr th:only-of-type {\n",
              "        vertical-align: middle;\n",
              "    }\n",
              "\n",
              "    .dataframe tbody tr th {\n",
              "        vertical-align: top;\n",
              "    }\n",
              "\n",
              "    .dataframe thead th {\n",
              "        text-align: right;\n",
              "    }\n",
              "</style>\n",
              "<table border=\"1\" class=\"dataframe\">\n",
              "  <thead>\n",
              "    <tr style=\"text-align: right;\">\n",
              "      <th></th>\n",
              "      <th>rank</th>\n",
              "      <th>gre_mean</th>\n",
              "    </tr>\n",
              "  </thead>\n",
              "  <tbody>\n",
              "    <tr>\n",
              "      <th>0</th>\n",
              "      <td>1</td>\n",
              "      <td>611.803279</td>\n",
              "    </tr>\n",
              "    <tr>\n",
              "      <th>1</th>\n",
              "      <td>2</td>\n",
              "      <td>596.026490</td>\n",
              "    </tr>\n",
              "    <tr>\n",
              "      <th>2</th>\n",
              "      <td>3</td>\n",
              "      <td>574.876033</td>\n",
              "    </tr>\n",
              "    <tr>\n",
              "      <th>3</th>\n",
              "      <td>4</td>\n",
              "      <td>570.149254</td>\n",
              "    </tr>\n",
              "  </tbody>\n",
              "</table>\n",
              "</div>"
            ],
            "text/plain": [
              "   rank    gre_mean\n",
              "0     1  611.803279\n",
              "1     2  596.026490\n",
              "2     3  574.876033\n",
              "3     4  570.149254"
            ]
          },
          "metadata": {
            "tags": []
          },
          "execution_count": 89
        }
      ]
    },
    {
      "metadata": {
        "id": "66oW1jgUMp_O",
        "colab_type": "text"
      },
      "cell_type": "markdown",
      "source": [
        "실습해봅시다!\n",
        "\n",
        "rank, admit 기준으로 gre의 최대값을 출력하시오.\n",
        "\n",
        ".max()를 사용하면 됩니다."
      ]
    },
    {
      "metadata": {
        "id": "TXBGWEXIM3XQ",
        "colab_type": "code",
        "colab": {
          "base_uri": "https://localhost:8080/",
          "height": 284
        },
        "outputId": "4bec9448-2897-4302-a9da-9d4d23bc0db4"
      },
      "cell_type": "code",
      "source": [
        "## Your Code\n",
        "\n"
      ],
      "execution_count": 206,
      "outputs": [
        {
          "output_type": "execute_result",
          "data": {
            "text/html": [
              "<div>\n",
              "<style scoped>\n",
              "    .dataframe tbody tr th:only-of-type {\n",
              "        vertical-align: middle;\n",
              "    }\n",
              "\n",
              "    .dataframe tbody tr th {\n",
              "        vertical-align: top;\n",
              "    }\n",
              "\n",
              "    .dataframe thead th {\n",
              "        text-align: right;\n",
              "    }\n",
              "</style>\n",
              "<table border=\"1\" class=\"dataframe\">\n",
              "  <thead>\n",
              "    <tr style=\"text-align: right;\">\n",
              "      <th></th>\n",
              "      <th>rank</th>\n",
              "      <th>admit</th>\n",
              "      <th>gre</th>\n",
              "    </tr>\n",
              "  </thead>\n",
              "  <tbody>\n",
              "    <tr>\n",
              "      <th>0</th>\n",
              "      <td>1</td>\n",
              "      <td>0</td>\n",
              "      <td>800</td>\n",
              "    </tr>\n",
              "    <tr>\n",
              "      <th>1</th>\n",
              "      <td>1</td>\n",
              "      <td>1</td>\n",
              "      <td>800</td>\n",
              "    </tr>\n",
              "    <tr>\n",
              "      <th>2</th>\n",
              "      <td>2</td>\n",
              "      <td>0</td>\n",
              "      <td>800</td>\n",
              "    </tr>\n",
              "    <tr>\n",
              "      <th>3</th>\n",
              "      <td>2</td>\n",
              "      <td>1</td>\n",
              "      <td>800</td>\n",
              "    </tr>\n",
              "    <tr>\n",
              "      <th>4</th>\n",
              "      <td>3</td>\n",
              "      <td>0</td>\n",
              "      <td>800</td>\n",
              "    </tr>\n",
              "    <tr>\n",
              "      <th>5</th>\n",
              "      <td>3</td>\n",
              "      <td>1</td>\n",
              "      <td>800</td>\n",
              "    </tr>\n",
              "    <tr>\n",
              "      <th>6</th>\n",
              "      <td>4</td>\n",
              "      <td>0</td>\n",
              "      <td>800</td>\n",
              "    </tr>\n",
              "    <tr>\n",
              "      <th>7</th>\n",
              "      <td>4</td>\n",
              "      <td>1</td>\n",
              "      <td>780</td>\n",
              "    </tr>\n",
              "  </tbody>\n",
              "</table>\n",
              "</div>"
            ],
            "text/plain": [
              "   rank  admit  gre\n",
              "0     1      0  800\n",
              "1     1      1  800\n",
              "2     2      0  800\n",
              "3     2      1  800\n",
              "4     3      0  800\n",
              "5     3      1  800\n",
              "6     4      0  800\n",
              "7     4      1  780"
            ]
          },
          "metadata": {
            "tags": []
          },
          "execution_count": 206
        }
      ]
    },
    {
      "metadata": {
        "id": "nlqUMv5fM2gq",
        "colab_type": "code",
        "colab": {}
      },
      "cell_type": "code",
      "source": [
        ""
      ],
      "execution_count": 0,
      "outputs": []
    },
    {
      "metadata": {
        "id": "0Cq3lmVb5oj2",
        "colab_type": "text"
      },
      "cell_type": "markdown",
      "source": [
        "### 06-2 Join"
      ]
    },
    {
      "metadata": {
        "id": "qE9uXpyO6XGq",
        "colab_type": "code",
        "colab": {
          "base_uri": "https://localhost:8080/",
          "height": 166
        },
        "outputId": "75786cd7-88e3-46a7-cfd8-233d204006eb"
      },
      "cell_type": "code",
      "source": [
        "mean_by_rank = df.groupby(by = ['rank'], as_index=False)['gre', 'gpa'].mean()\n",
        "mean_by_rank.rename(columns = {'gre':'gre_mean', 'gpa':'gpa_mean'}, inplace = True)\n",
        "mean_by_rank"
      ],
      "execution_count": 93,
      "outputs": [
        {
          "output_type": "execute_result",
          "data": {
            "text/html": [
              "<div>\n",
              "<style scoped>\n",
              "    .dataframe tbody tr th:only-of-type {\n",
              "        vertical-align: middle;\n",
              "    }\n",
              "\n",
              "    .dataframe tbody tr th {\n",
              "        vertical-align: top;\n",
              "    }\n",
              "\n",
              "    .dataframe thead th {\n",
              "        text-align: right;\n",
              "    }\n",
              "</style>\n",
              "<table border=\"1\" class=\"dataframe\">\n",
              "  <thead>\n",
              "    <tr style=\"text-align: right;\">\n",
              "      <th></th>\n",
              "      <th>rank</th>\n",
              "      <th>gre_mean</th>\n",
              "      <th>gpa_mean</th>\n",
              "    </tr>\n",
              "  </thead>\n",
              "  <tbody>\n",
              "    <tr>\n",
              "      <th>0</th>\n",
              "      <td>1</td>\n",
              "      <td>611.803279</td>\n",
              "      <td>3.453115</td>\n",
              "    </tr>\n",
              "    <tr>\n",
              "      <th>1</th>\n",
              "      <td>2</td>\n",
              "      <td>596.026490</td>\n",
              "      <td>3.361656</td>\n",
              "    </tr>\n",
              "    <tr>\n",
              "      <th>2</th>\n",
              "      <td>3</td>\n",
              "      <td>574.876033</td>\n",
              "      <td>3.432893</td>\n",
              "    </tr>\n",
              "    <tr>\n",
              "      <th>3</th>\n",
              "      <td>4</td>\n",
              "      <td>570.149254</td>\n",
              "      <td>3.318358</td>\n",
              "    </tr>\n",
              "  </tbody>\n",
              "</table>\n",
              "</div>"
            ],
            "text/plain": [
              "   rank    gre_mean  gpa_mean\n",
              "0     1  611.803279  3.453115\n",
              "1     2  596.026490  3.361656\n",
              "2     3  574.876033  3.432893\n",
              "3     4  570.149254  3.318358"
            ]
          },
          "metadata": {
            "tags": []
          },
          "execution_count": 93
        }
      ]
    },
    {
      "metadata": {
        "id": "-HCmIf8I7kDx",
        "colab_type": "code",
        "colab": {
          "base_uri": "https://localhost:8080/",
          "height": 166
        },
        "outputId": "ea07ecc1-f8ca-410e-b091-0f2d71f28e70"
      },
      "cell_type": "code",
      "source": [
        "'''\n",
        "pandas,  ver0.22.0 기준으로 망가져 있는 기능.\n",
        "rank가 미쳐보이지만 놀랍게도, 값들은 정상입니다.\n",
        "'''\n",
        "std_by_rank = df.groupby(by = ['rank'], as_index=False)['gre', 'gpa'].std()\n",
        "std_by_rank.rename(columns = {'gre':'gre_std', 'gpa':'gpa_std'}, inplace = True)\n",
        "std_by_rank"
      ],
      "execution_count": 175,
      "outputs": [
        {
          "output_type": "execute_result",
          "data": {
            "text/html": [
              "<div>\n",
              "<style scoped>\n",
              "    .dataframe tbody tr th:only-of-type {\n",
              "        vertical-align: middle;\n",
              "    }\n",
              "\n",
              "    .dataframe tbody tr th {\n",
              "        vertical-align: top;\n",
              "    }\n",
              "\n",
              "    .dataframe thead th {\n",
              "        text-align: right;\n",
              "    }\n",
              "</style>\n",
              "<table border=\"1\" class=\"dataframe\">\n",
              "  <thead>\n",
              "    <tr style=\"text-align: right;\">\n",
              "      <th></th>\n",
              "      <th>rank</th>\n",
              "      <th>gre_std</th>\n",
              "      <th>gpa_std</th>\n",
              "    </tr>\n",
              "  </thead>\n",
              "  <tbody>\n",
              "    <tr>\n",
              "      <th>0</th>\n",
              "      <td>1.000000</td>\n",
              "      <td>120.242924</td>\n",
              "      <td>0.390698</td>\n",
              "    </tr>\n",
              "    <tr>\n",
              "      <th>1</th>\n",
              "      <td>1.414214</td>\n",
              "      <td>107.008283</td>\n",
              "      <td>0.375893</td>\n",
              "    </tr>\n",
              "    <tr>\n",
              "      <th>2</th>\n",
              "      <td>1.732051</td>\n",
              "      <td>121.148089</td>\n",
              "      <td>0.386502</td>\n",
              "    </tr>\n",
              "    <tr>\n",
              "      <th>3</th>\n",
              "      <td>2.000000</td>\n",
              "      <td>116.221999</td>\n",
              "      <td>0.360507</td>\n",
              "    </tr>\n",
              "  </tbody>\n",
              "</table>\n",
              "</div>"
            ],
            "text/plain": [
              "       rank     gre_std   gpa_std\n",
              "0  1.000000  120.242924  0.390698\n",
              "1  1.414214  107.008283  0.375893\n",
              "2  1.732051  121.148089  0.386502\n",
              "3  2.000000  116.221999  0.360507"
            ]
          },
          "metadata": {
            "tags": []
          },
          "execution_count": 175
        }
      ]
    },
    {
      "metadata": {
        "id": "tLlZXHjb7vOh",
        "colab_type": "text"
      },
      "cell_type": "markdown",
      "source": [
        "pandas ver0.22.0 기준으로 망가져 있는 기능을 우회하여 사용하는 가장 빠른 방법은 다음과 같습니다."
      ]
    },
    {
      "metadata": {
        "id": "msPDKeIaGCd2",
        "colab_type": "code",
        "colab": {
          "base_uri": "https://localhost:8080/",
          "height": 166
        },
        "outputId": "74cc2d5b-c094-4bf7-b7c7-8bc4158c481e"
      },
      "cell_type": "code",
      "source": [
        "std_by_rank['rank'] = mean_by_rank['rank']\n",
        "std_by_rank"
      ],
      "execution_count": 177,
      "outputs": [
        {
          "output_type": "execute_result",
          "data": {
            "text/html": [
              "<div>\n",
              "<style scoped>\n",
              "    .dataframe tbody tr th:only-of-type {\n",
              "        vertical-align: middle;\n",
              "    }\n",
              "\n",
              "    .dataframe tbody tr th {\n",
              "        vertical-align: top;\n",
              "    }\n",
              "\n",
              "    .dataframe thead th {\n",
              "        text-align: right;\n",
              "    }\n",
              "</style>\n",
              "<table border=\"1\" class=\"dataframe\">\n",
              "  <thead>\n",
              "    <tr style=\"text-align: right;\">\n",
              "      <th></th>\n",
              "      <th>rank</th>\n",
              "      <th>gre_std</th>\n",
              "      <th>gpa_std</th>\n",
              "    </tr>\n",
              "  </thead>\n",
              "  <tbody>\n",
              "    <tr>\n",
              "      <th>0</th>\n",
              "      <td>1</td>\n",
              "      <td>120.242924</td>\n",
              "      <td>0.390698</td>\n",
              "    </tr>\n",
              "    <tr>\n",
              "      <th>1</th>\n",
              "      <td>2</td>\n",
              "      <td>107.008283</td>\n",
              "      <td>0.375893</td>\n",
              "    </tr>\n",
              "    <tr>\n",
              "      <th>2</th>\n",
              "      <td>3</td>\n",
              "      <td>121.148089</td>\n",
              "      <td>0.386502</td>\n",
              "    </tr>\n",
              "    <tr>\n",
              "      <th>3</th>\n",
              "      <td>4</td>\n",
              "      <td>116.221999</td>\n",
              "      <td>0.360507</td>\n",
              "    </tr>\n",
              "  </tbody>\n",
              "</table>\n",
              "</div>"
            ],
            "text/plain": [
              "   rank     gre_std   gpa_std\n",
              "0     1  120.242924  0.390698\n",
              "1     2  107.008283  0.375893\n",
              "2     3  121.148089  0.386502\n",
              "3     4  116.221999  0.360507"
            ]
          },
          "metadata": {
            "tags": []
          },
          "execution_count": 177
        }
      ]
    },
    {
      "metadata": {
        "id": "pzDmPyRvGdUv",
        "colab_type": "text"
      },
      "cell_type": "markdown",
      "source": [
        "판다스에서 join은 굉장히 간단합니다.\n",
        "\n",
        "자동으로 key를 잡아줍니다!\n",
        "\n",
        "다만, 자동으로 inner join을 합니다."
      ]
    },
    {
      "metadata": {
        "id": "j5DGezR_GTc6",
        "colab_type": "code",
        "colab": {
          "base_uri": "https://localhost:8080/",
          "height": 166
        },
        "outputId": "f8eaa953-7bb7-460b-b74c-12ad1b5bd0ea"
      },
      "cell_type": "code",
      "source": [
        "pd.merge(mean_by_rank, std_by_rank)"
      ],
      "execution_count": 180,
      "outputs": [
        {
          "output_type": "execute_result",
          "data": {
            "text/html": [
              "<div>\n",
              "<style scoped>\n",
              "    .dataframe tbody tr th:only-of-type {\n",
              "        vertical-align: middle;\n",
              "    }\n",
              "\n",
              "    .dataframe tbody tr th {\n",
              "        vertical-align: top;\n",
              "    }\n",
              "\n",
              "    .dataframe thead th {\n",
              "        text-align: right;\n",
              "    }\n",
              "</style>\n",
              "<table border=\"1\" class=\"dataframe\">\n",
              "  <thead>\n",
              "    <tr style=\"text-align: right;\">\n",
              "      <th></th>\n",
              "      <th>rank</th>\n",
              "      <th>gre_mean</th>\n",
              "      <th>gpa_mean</th>\n",
              "      <th>gre_std</th>\n",
              "      <th>gpa_std</th>\n",
              "    </tr>\n",
              "  </thead>\n",
              "  <tbody>\n",
              "    <tr>\n",
              "      <th>0</th>\n",
              "      <td>1</td>\n",
              "      <td>611.803279</td>\n",
              "      <td>3.453115</td>\n",
              "      <td>120.242924</td>\n",
              "      <td>0.390698</td>\n",
              "    </tr>\n",
              "    <tr>\n",
              "      <th>1</th>\n",
              "      <td>2</td>\n",
              "      <td>596.026490</td>\n",
              "      <td>3.361656</td>\n",
              "      <td>107.008283</td>\n",
              "      <td>0.375893</td>\n",
              "    </tr>\n",
              "    <tr>\n",
              "      <th>2</th>\n",
              "      <td>3</td>\n",
              "      <td>574.876033</td>\n",
              "      <td>3.432893</td>\n",
              "      <td>121.148089</td>\n",
              "      <td>0.386502</td>\n",
              "    </tr>\n",
              "    <tr>\n",
              "      <th>3</th>\n",
              "      <td>4</td>\n",
              "      <td>570.149254</td>\n",
              "      <td>3.318358</td>\n",
              "      <td>116.221999</td>\n",
              "      <td>0.360507</td>\n",
              "    </tr>\n",
              "  </tbody>\n",
              "</table>\n",
              "</div>"
            ],
            "text/plain": [
              "   rank    gre_mean  gpa_mean     gre_std   gpa_std\n",
              "0     1  611.803279  3.453115  120.242924  0.390698\n",
              "1     2  596.026490  3.361656  107.008283  0.375893\n",
              "2     3  574.876033  3.432893  121.148089  0.386502\n",
              "3     4  570.149254  3.318358  116.221999  0.360507"
            ]
          },
          "metadata": {
            "tags": []
          },
          "execution_count": 180
        }
      ]
    },
    {
      "metadata": {
        "id": "HOK_DUWYGq4t",
        "colab_type": "code",
        "colab": {
          "base_uri": "https://localhost:8080/",
          "height": 166
        },
        "outputId": "c089a562-672d-4278-e562-f0bdc099468d"
      },
      "cell_type": "code",
      "source": [
        "pd.merge(mean_by_rank, std_by_rank, on = 'rank', how = 'outer')"
      ],
      "execution_count": 183,
      "outputs": [
        {
          "output_type": "execute_result",
          "data": {
            "text/html": [
              "<div>\n",
              "<style scoped>\n",
              "    .dataframe tbody tr th:only-of-type {\n",
              "        vertical-align: middle;\n",
              "    }\n",
              "\n",
              "    .dataframe tbody tr th {\n",
              "        vertical-align: top;\n",
              "    }\n",
              "\n",
              "    .dataframe thead th {\n",
              "        text-align: right;\n",
              "    }\n",
              "</style>\n",
              "<table border=\"1\" class=\"dataframe\">\n",
              "  <thead>\n",
              "    <tr style=\"text-align: right;\">\n",
              "      <th></th>\n",
              "      <th>rank</th>\n",
              "      <th>gre_mean</th>\n",
              "      <th>gpa_mean</th>\n",
              "      <th>gre_std</th>\n",
              "      <th>gpa_std</th>\n",
              "    </tr>\n",
              "  </thead>\n",
              "  <tbody>\n",
              "    <tr>\n",
              "      <th>0</th>\n",
              "      <td>1</td>\n",
              "      <td>611.803279</td>\n",
              "      <td>3.453115</td>\n",
              "      <td>120.242924</td>\n",
              "      <td>0.390698</td>\n",
              "    </tr>\n",
              "    <tr>\n",
              "      <th>1</th>\n",
              "      <td>2</td>\n",
              "      <td>596.026490</td>\n",
              "      <td>3.361656</td>\n",
              "      <td>107.008283</td>\n",
              "      <td>0.375893</td>\n",
              "    </tr>\n",
              "    <tr>\n",
              "      <th>2</th>\n",
              "      <td>3</td>\n",
              "      <td>574.876033</td>\n",
              "      <td>3.432893</td>\n",
              "      <td>121.148089</td>\n",
              "      <td>0.386502</td>\n",
              "    </tr>\n",
              "    <tr>\n",
              "      <th>3</th>\n",
              "      <td>4</td>\n",
              "      <td>570.149254</td>\n",
              "      <td>3.318358</td>\n",
              "      <td>116.221999</td>\n",
              "      <td>0.360507</td>\n",
              "    </tr>\n",
              "  </tbody>\n",
              "</table>\n",
              "</div>"
            ],
            "text/plain": [
              "   rank    gre_mean  gpa_mean     gre_std   gpa_std\n",
              "0     1  611.803279  3.453115  120.242924  0.390698\n",
              "1     2  596.026490  3.361656  107.008283  0.375893\n",
              "2     3  574.876033  3.432893  121.148089  0.386502\n",
              "3     4  570.149254  3.318358  116.221999  0.360507"
            ]
          },
          "metadata": {
            "tags": []
          },
          "execution_count": 183
        }
      ]
    },
    {
      "metadata": {
        "id": "IudB7hIxHAj-",
        "colab_type": "text"
      },
      "cell_type": "markdown",
      "source": [
        "multiple key에 대해서도 자동으로 join이 됩니다!"
      ]
    },
    {
      "metadata": {
        "id": "6XFhsDRnHRXW",
        "colab_type": "code",
        "colab": {
          "base_uri": "https://localhost:8080/",
          "height": 284
        },
        "outputId": "72cc5047-003c-4020-9225-2a3586aee6f5"
      },
      "cell_type": "code",
      "source": [
        "mean_by_rank2 = df.groupby(by = ['rank', 'admit'], as_index=False)['gre', 'gpa'].mean()\n",
        "mean_by_rank2.rename(columns = {'gre':'gre_mean', 'gpa':'gpa_mean'}, inplace = True)\n",
        "mean_by_rank2"
      ],
      "execution_count": 185,
      "outputs": [
        {
          "output_type": "execute_result",
          "data": {
            "text/html": [
              "<div>\n",
              "<style scoped>\n",
              "    .dataframe tbody tr th:only-of-type {\n",
              "        vertical-align: middle;\n",
              "    }\n",
              "\n",
              "    .dataframe tbody tr th {\n",
              "        vertical-align: top;\n",
              "    }\n",
              "\n",
              "    .dataframe thead th {\n",
              "        text-align: right;\n",
              "    }\n",
              "</style>\n",
              "<table border=\"1\" class=\"dataframe\">\n",
              "  <thead>\n",
              "    <tr style=\"text-align: right;\">\n",
              "      <th></th>\n",
              "      <th>rank</th>\n",
              "      <th>admit</th>\n",
              "      <th>gre_mean</th>\n",
              "      <th>gpa_mean</th>\n",
              "    </tr>\n",
              "  </thead>\n",
              "  <tbody>\n",
              "    <tr>\n",
              "      <th>0</th>\n",
              "      <td>1</td>\n",
              "      <td>0</td>\n",
              "      <td>582.857143</td>\n",
              "      <td>3.345714</td>\n",
              "    </tr>\n",
              "    <tr>\n",
              "      <th>1</th>\n",
              "      <td>1</td>\n",
              "      <td>1</td>\n",
              "      <td>636.363636</td>\n",
              "      <td>3.544242</td>\n",
              "    </tr>\n",
              "    <tr>\n",
              "      <th>2</th>\n",
              "      <td>2</td>\n",
              "      <td>0</td>\n",
              "      <td>586.597938</td>\n",
              "      <td>3.316598</td>\n",
              "    </tr>\n",
              "    <tr>\n",
              "      <th>3</th>\n",
              "      <td>2</td>\n",
              "      <td>1</td>\n",
              "      <td>612.962963</td>\n",
              "      <td>3.442593</td>\n",
              "    </tr>\n",
              "    <tr>\n",
              "      <th>4</th>\n",
              "      <td>3</td>\n",
              "      <td>0</td>\n",
              "      <td>562.365591</td>\n",
              "      <td>3.402258</td>\n",
              "    </tr>\n",
              "    <tr>\n",
              "      <th>5</th>\n",
              "      <td>3</td>\n",
              "      <td>1</td>\n",
              "      <td>616.428571</td>\n",
              "      <td>3.534643</td>\n",
              "    </tr>\n",
              "    <tr>\n",
              "      <th>6</th>\n",
              "      <td>4</td>\n",
              "      <td>0</td>\n",
              "      <td>562.909091</td>\n",
              "      <td>3.291455</td>\n",
              "    </tr>\n",
              "    <tr>\n",
              "      <th>7</th>\n",
              "      <td>4</td>\n",
              "      <td>1</td>\n",
              "      <td>603.333333</td>\n",
              "      <td>3.441667</td>\n",
              "    </tr>\n",
              "  </tbody>\n",
              "</table>\n",
              "</div>"
            ],
            "text/plain": [
              "   rank  admit    gre_mean  gpa_mean\n",
              "0     1      0  582.857143  3.345714\n",
              "1     1      1  636.363636  3.544242\n",
              "2     2      0  586.597938  3.316598\n",
              "3     2      1  612.962963  3.442593\n",
              "4     3      0  562.365591  3.402258\n",
              "5     3      1  616.428571  3.534643\n",
              "6     4      0  562.909091  3.291455\n",
              "7     4      1  603.333333  3.441667"
            ]
          },
          "metadata": {
            "tags": []
          },
          "execution_count": 185
        }
      ]
    },
    {
      "metadata": {
        "id": "79OKecOWHZY6",
        "colab_type": "code",
        "colab": {
          "base_uri": "https://localhost:8080/",
          "height": 284
        },
        "outputId": "dd1e0636-4b5b-45f8-9b94-d6f8d2a9e168"
      },
      "cell_type": "code",
      "source": [
        "std_by_rank2 = df.groupby(by = ['rank','admit'], as_index=False)['gre', 'gpa'].std()\n",
        "std_by_rank2.rename(columns = {'gre':'gre_std', 'gpa':'gpa_std'}, inplace = True)\n",
        "std_by_rank2['rank'] = mean_by_rank2['rank']\n",
        "std_by_rank2"
      ],
      "execution_count": 187,
      "outputs": [
        {
          "output_type": "execute_result",
          "data": {
            "text/html": [
              "<div>\n",
              "<style scoped>\n",
              "    .dataframe tbody tr th:only-of-type {\n",
              "        vertical-align: middle;\n",
              "    }\n",
              "\n",
              "    .dataframe tbody tr th {\n",
              "        vertical-align: top;\n",
              "    }\n",
              "\n",
              "    .dataframe thead th {\n",
              "        text-align: right;\n",
              "    }\n",
              "</style>\n",
              "<table border=\"1\" class=\"dataframe\">\n",
              "  <thead>\n",
              "    <tr style=\"text-align: right;\">\n",
              "      <th></th>\n",
              "      <th>rank</th>\n",
              "      <th>admit</th>\n",
              "      <th>gre_std</th>\n",
              "      <th>gpa_std</th>\n",
              "    </tr>\n",
              "  </thead>\n",
              "  <tbody>\n",
              "    <tr>\n",
              "      <th>0</th>\n",
              "      <td>1</td>\n",
              "      <td>0.0</td>\n",
              "      <td>126.574737</td>\n",
              "      <td>0.375445</td>\n",
              "    </tr>\n",
              "    <tr>\n",
              "      <th>1</th>\n",
              "      <td>1</td>\n",
              "      <td>1.0</td>\n",
              "      <td>110.618098</td>\n",
              "      <td>0.385511</td>\n",
              "    </tr>\n",
              "    <tr>\n",
              "      <th>2</th>\n",
              "      <td>2</td>\n",
              "      <td>0.0</td>\n",
              "      <td>103.066388</td>\n",
              "      <td>0.377927</td>\n",
              "    </tr>\n",
              "    <tr>\n",
              "      <th>3</th>\n",
              "      <td>2</td>\n",
              "      <td>1.0</td>\n",
              "      <td>112.746663</td>\n",
              "      <td>0.361653</td>\n",
              "    </tr>\n",
              "    <tr>\n",
              "      <th>4</th>\n",
              "      <td>3</td>\n",
              "      <td>0.0</td>\n",
              "      <td>124.650798</td>\n",
              "      <td>0.379434</td>\n",
              "    </tr>\n",
              "    <tr>\n",
              "      <th>5</th>\n",
              "      <td>3</td>\n",
              "      <td>1.0</td>\n",
              "      <td>99.785484</td>\n",
              "      <td>0.399244</td>\n",
              "    </tr>\n",
              "    <tr>\n",
              "      <th>6</th>\n",
              "      <td>4</td>\n",
              "      <td>0.0</td>\n",
              "      <td>116.327646</td>\n",
              "      <td>0.369767</td>\n",
              "    </tr>\n",
              "    <tr>\n",
              "      <th>7</th>\n",
              "      <td>4</td>\n",
              "      <td>1.0</td>\n",
              "      <td>114.680056</td>\n",
              "      <td>0.297286</td>\n",
              "    </tr>\n",
              "  </tbody>\n",
              "</table>\n",
              "</div>"
            ],
            "text/plain": [
              "   rank  admit     gre_std   gpa_std\n",
              "0     1    0.0  126.574737  0.375445\n",
              "1     1    1.0  110.618098  0.385511\n",
              "2     2    0.0  103.066388  0.377927\n",
              "3     2    1.0  112.746663  0.361653\n",
              "4     3    0.0  124.650798  0.379434\n",
              "5     3    1.0   99.785484  0.399244\n",
              "6     4    0.0  116.327646  0.369767\n",
              "7     4    1.0  114.680056  0.297286"
            ]
          },
          "metadata": {
            "tags": []
          },
          "execution_count": 187
        }
      ]
    },
    {
      "metadata": {
        "id": "m3HJLkjBHmtJ",
        "colab_type": "code",
        "colab": {
          "base_uri": "https://localhost:8080/",
          "height": 284
        },
        "outputId": "f323aaa3-005f-47a2-8a70-a6ea7e7c594b"
      },
      "cell_type": "code",
      "source": [
        "pd.merge(mean_by_rank2,std_by_rank2)"
      ],
      "execution_count": 189,
      "outputs": [
        {
          "output_type": "execute_result",
          "data": {
            "text/html": [
              "<div>\n",
              "<style scoped>\n",
              "    .dataframe tbody tr th:only-of-type {\n",
              "        vertical-align: middle;\n",
              "    }\n",
              "\n",
              "    .dataframe tbody tr th {\n",
              "        vertical-align: top;\n",
              "    }\n",
              "\n",
              "    .dataframe thead th {\n",
              "        text-align: right;\n",
              "    }\n",
              "</style>\n",
              "<table border=\"1\" class=\"dataframe\">\n",
              "  <thead>\n",
              "    <tr style=\"text-align: right;\">\n",
              "      <th></th>\n",
              "      <th>rank</th>\n",
              "      <th>admit</th>\n",
              "      <th>gre_mean</th>\n",
              "      <th>gpa_mean</th>\n",
              "      <th>gre_std</th>\n",
              "      <th>gpa_std</th>\n",
              "    </tr>\n",
              "  </thead>\n",
              "  <tbody>\n",
              "    <tr>\n",
              "      <th>0</th>\n",
              "      <td>1</td>\n",
              "      <td>0</td>\n",
              "      <td>582.857143</td>\n",
              "      <td>3.345714</td>\n",
              "      <td>126.574737</td>\n",
              "      <td>0.375445</td>\n",
              "    </tr>\n",
              "    <tr>\n",
              "      <th>1</th>\n",
              "      <td>1</td>\n",
              "      <td>1</td>\n",
              "      <td>636.363636</td>\n",
              "      <td>3.544242</td>\n",
              "      <td>110.618098</td>\n",
              "      <td>0.385511</td>\n",
              "    </tr>\n",
              "    <tr>\n",
              "      <th>2</th>\n",
              "      <td>2</td>\n",
              "      <td>0</td>\n",
              "      <td>586.597938</td>\n",
              "      <td>3.316598</td>\n",
              "      <td>103.066388</td>\n",
              "      <td>0.377927</td>\n",
              "    </tr>\n",
              "    <tr>\n",
              "      <th>3</th>\n",
              "      <td>2</td>\n",
              "      <td>1</td>\n",
              "      <td>612.962963</td>\n",
              "      <td>3.442593</td>\n",
              "      <td>112.746663</td>\n",
              "      <td>0.361653</td>\n",
              "    </tr>\n",
              "    <tr>\n",
              "      <th>4</th>\n",
              "      <td>3</td>\n",
              "      <td>0</td>\n",
              "      <td>562.365591</td>\n",
              "      <td>3.402258</td>\n",
              "      <td>124.650798</td>\n",
              "      <td>0.379434</td>\n",
              "    </tr>\n",
              "    <tr>\n",
              "      <th>5</th>\n",
              "      <td>3</td>\n",
              "      <td>1</td>\n",
              "      <td>616.428571</td>\n",
              "      <td>3.534643</td>\n",
              "      <td>99.785484</td>\n",
              "      <td>0.399244</td>\n",
              "    </tr>\n",
              "    <tr>\n",
              "      <th>6</th>\n",
              "      <td>4</td>\n",
              "      <td>0</td>\n",
              "      <td>562.909091</td>\n",
              "      <td>3.291455</td>\n",
              "      <td>116.327646</td>\n",
              "      <td>0.369767</td>\n",
              "    </tr>\n",
              "    <tr>\n",
              "      <th>7</th>\n",
              "      <td>4</td>\n",
              "      <td>1</td>\n",
              "      <td>603.333333</td>\n",
              "      <td>3.441667</td>\n",
              "      <td>114.680056</td>\n",
              "      <td>0.297286</td>\n",
              "    </tr>\n",
              "  </tbody>\n",
              "</table>\n",
              "</div>"
            ],
            "text/plain": [
              "   rank admit    gre_mean  gpa_mean     gre_std   gpa_std\n",
              "0     1     0  582.857143  3.345714  126.574737  0.375445\n",
              "1     1     1  636.363636  3.544242  110.618098  0.385511\n",
              "2     2     0  586.597938  3.316598  103.066388  0.377927\n",
              "3     2     1  612.962963  3.442593  112.746663  0.361653\n",
              "4     3     0  562.365591  3.402258  124.650798  0.379434\n",
              "5     3     1  616.428571  3.534643   99.785484  0.399244\n",
              "6     4     0  562.909091  3.291455  116.327646  0.369767\n",
              "7     4     1  603.333333  3.441667  114.680056  0.297286"
            ]
          },
          "metadata": {
            "tags": []
          },
          "execution_count": 189
        }
      ]
    },
    {
      "metadata": {
        "id": "L14aTzDENWv3",
        "colab_type": "text"
      },
      "cell_type": "markdown",
      "source": [
        "실습해봅시다!\n",
        "\n",
        "rank, admit 기준으로 gre의 최소값을 담는 dataframe을 만들어\n",
        "\n",
        "다음의 데이터 프레임(df_to_merge)와 join 하시오."
      ]
    },
    {
      "metadata": {
        "id": "IzYcn8pXNS2K",
        "colab_type": "code",
        "colab": {
          "base_uri": "https://localhost:8080/",
          "height": 195
        },
        "outputId": "7b8c394e-7f58-4e9f-e2a2-03c9ab5bdc15"
      },
      "cell_type": "code",
      "source": [
        "df_to_merge = pd.merge(mean_by_rank2, std_by_rank2)\n",
        "df_to_merge.head()"
      ],
      "execution_count": 207,
      "outputs": [
        {
          "output_type": "execute_result",
          "data": {
            "text/html": [
              "<div>\n",
              "<style scoped>\n",
              "    .dataframe tbody tr th:only-of-type {\n",
              "        vertical-align: middle;\n",
              "    }\n",
              "\n",
              "    .dataframe tbody tr th {\n",
              "        vertical-align: top;\n",
              "    }\n",
              "\n",
              "    .dataframe thead th {\n",
              "        text-align: right;\n",
              "    }\n",
              "</style>\n",
              "<table border=\"1\" class=\"dataframe\">\n",
              "  <thead>\n",
              "    <tr style=\"text-align: right;\">\n",
              "      <th></th>\n",
              "      <th>rank</th>\n",
              "      <th>admit</th>\n",
              "      <th>gre_mean</th>\n",
              "      <th>gpa_mean</th>\n",
              "      <th>gre_std</th>\n",
              "      <th>gpa_std</th>\n",
              "    </tr>\n",
              "  </thead>\n",
              "  <tbody>\n",
              "    <tr>\n",
              "      <th>0</th>\n",
              "      <td>1</td>\n",
              "      <td>0</td>\n",
              "      <td>582.857143</td>\n",
              "      <td>3.345714</td>\n",
              "      <td>126.574737</td>\n",
              "      <td>0.375445</td>\n",
              "    </tr>\n",
              "    <tr>\n",
              "      <th>1</th>\n",
              "      <td>1</td>\n",
              "      <td>1</td>\n",
              "      <td>636.363636</td>\n",
              "      <td>3.544242</td>\n",
              "      <td>110.618098</td>\n",
              "      <td>0.385511</td>\n",
              "    </tr>\n",
              "    <tr>\n",
              "      <th>2</th>\n",
              "      <td>2</td>\n",
              "      <td>0</td>\n",
              "      <td>586.597938</td>\n",
              "      <td>3.316598</td>\n",
              "      <td>103.066388</td>\n",
              "      <td>0.377927</td>\n",
              "    </tr>\n",
              "    <tr>\n",
              "      <th>3</th>\n",
              "      <td>2</td>\n",
              "      <td>1</td>\n",
              "      <td>612.962963</td>\n",
              "      <td>3.442593</td>\n",
              "      <td>112.746663</td>\n",
              "      <td>0.361653</td>\n",
              "    </tr>\n",
              "    <tr>\n",
              "      <th>4</th>\n",
              "      <td>3</td>\n",
              "      <td>0</td>\n",
              "      <td>562.365591</td>\n",
              "      <td>3.402258</td>\n",
              "      <td>124.650798</td>\n",
              "      <td>0.379434</td>\n",
              "    </tr>\n",
              "  </tbody>\n",
              "</table>\n",
              "</div>"
            ],
            "text/plain": [
              "   rank admit    gre_mean  gpa_mean     gre_std   gpa_std\n",
              "0     1     0  582.857143  3.345714  126.574737  0.375445\n",
              "1     1     1  636.363636  3.544242  110.618098  0.385511\n",
              "2     2     0  586.597938  3.316598  103.066388  0.377927\n",
              "3     2     1  612.962963  3.442593  112.746663  0.361653\n",
              "4     3     0  562.365591  3.402258  124.650798  0.379434"
            ]
          },
          "metadata": {
            "tags": []
          },
          "execution_count": 207
        }
      ]
    },
    {
      "metadata": {
        "id": "E767uaIVNoTW",
        "colab_type": "code",
        "colab": {
          "base_uri": "https://localhost:8080/",
          "height": 284
        },
        "outputId": "d6f7e277-e434-4d66-d38a-03b9fd0f18e2"
      },
      "cell_type": "code",
      "source": [
        "df_mingre = df.groupby(by = ['rank','admit'], as_index=False)['gre'].min()\n",
        "df_mingre"
      ],
      "execution_count": 208,
      "outputs": [
        {
          "output_type": "execute_result",
          "data": {
            "text/html": [
              "<div>\n",
              "<style scoped>\n",
              "    .dataframe tbody tr th:only-of-type {\n",
              "        vertical-align: middle;\n",
              "    }\n",
              "\n",
              "    .dataframe tbody tr th {\n",
              "        vertical-align: top;\n",
              "    }\n",
              "\n",
              "    .dataframe thead th {\n",
              "        text-align: right;\n",
              "    }\n",
              "</style>\n",
              "<table border=\"1\" class=\"dataframe\">\n",
              "  <thead>\n",
              "    <tr style=\"text-align: right;\">\n",
              "      <th></th>\n",
              "      <th>rank</th>\n",
              "      <th>admit</th>\n",
              "      <th>gre</th>\n",
              "    </tr>\n",
              "  </thead>\n",
              "  <tbody>\n",
              "    <tr>\n",
              "      <th>0</th>\n",
              "      <td>1</td>\n",
              "      <td>0</td>\n",
              "      <td>340</td>\n",
              "    </tr>\n",
              "    <tr>\n",
              "      <th>1</th>\n",
              "      <td>1</td>\n",
              "      <td>1</td>\n",
              "      <td>460</td>\n",
              "    </tr>\n",
              "    <tr>\n",
              "      <th>2</th>\n",
              "      <td>2</td>\n",
              "      <td>0</td>\n",
              "      <td>380</td>\n",
              "    </tr>\n",
              "    <tr>\n",
              "      <th>3</th>\n",
              "      <td>2</td>\n",
              "      <td>1</td>\n",
              "      <td>300</td>\n",
              "    </tr>\n",
              "    <tr>\n",
              "      <th>4</th>\n",
              "      <td>3</td>\n",
              "      <td>0</td>\n",
              "      <td>220</td>\n",
              "    </tr>\n",
              "    <tr>\n",
              "      <th>5</th>\n",
              "      <td>3</td>\n",
              "      <td>1</td>\n",
              "      <td>460</td>\n",
              "    </tr>\n",
              "    <tr>\n",
              "      <th>6</th>\n",
              "      <td>4</td>\n",
              "      <td>0</td>\n",
              "      <td>300</td>\n",
              "    </tr>\n",
              "    <tr>\n",
              "      <th>7</th>\n",
              "      <td>4</td>\n",
              "      <td>1</td>\n",
              "      <td>400</td>\n",
              "    </tr>\n",
              "  </tbody>\n",
              "</table>\n",
              "</div>"
            ],
            "text/plain": [
              "   rank  admit  gre\n",
              "0     1      0  340\n",
              "1     1      1  460\n",
              "2     2      0  380\n",
              "3     2      1  300\n",
              "4     3      0  220\n",
              "5     3      1  460\n",
              "6     4      0  300\n",
              "7     4      1  400"
            ]
          },
          "metadata": {
            "tags": []
          },
          "execution_count": 208
        }
      ]
    },
    {
      "metadata": {
        "id": "hugZg4TgN0N6",
        "colab_type": "code",
        "colab": {
          "base_uri": "https://localhost:8080/",
          "height": 284
        },
        "outputId": "8a1b2433-231d-4c7d-fb74-e5fec6d11143"
      },
      "cell_type": "code",
      "source": [
        "### Your Code here"
      ],
      "execution_count": 209,
      "outputs": [
        {
          "output_type": "execute_result",
          "data": {
            "text/html": [
              "<div>\n",
              "<style scoped>\n",
              "    .dataframe tbody tr th:only-of-type {\n",
              "        vertical-align: middle;\n",
              "    }\n",
              "\n",
              "    .dataframe tbody tr th {\n",
              "        vertical-align: top;\n",
              "    }\n",
              "\n",
              "    .dataframe thead th {\n",
              "        text-align: right;\n",
              "    }\n",
              "</style>\n",
              "<table border=\"1\" class=\"dataframe\">\n",
              "  <thead>\n",
              "    <tr style=\"text-align: right;\">\n",
              "      <th></th>\n",
              "      <th>rank</th>\n",
              "      <th>admit</th>\n",
              "      <th>gre_mean</th>\n",
              "      <th>gpa_mean</th>\n",
              "      <th>gre_std</th>\n",
              "      <th>gpa_std</th>\n",
              "      <th>gre</th>\n",
              "    </tr>\n",
              "  </thead>\n",
              "  <tbody>\n",
              "    <tr>\n",
              "      <th>0</th>\n",
              "      <td>1</td>\n",
              "      <td>0</td>\n",
              "      <td>582.857143</td>\n",
              "      <td>3.345714</td>\n",
              "      <td>126.574737</td>\n",
              "      <td>0.375445</td>\n",
              "      <td>340</td>\n",
              "    </tr>\n",
              "    <tr>\n",
              "      <th>1</th>\n",
              "      <td>1</td>\n",
              "      <td>1</td>\n",
              "      <td>636.363636</td>\n",
              "      <td>3.544242</td>\n",
              "      <td>110.618098</td>\n",
              "      <td>0.385511</td>\n",
              "      <td>460</td>\n",
              "    </tr>\n",
              "    <tr>\n",
              "      <th>2</th>\n",
              "      <td>2</td>\n",
              "      <td>0</td>\n",
              "      <td>586.597938</td>\n",
              "      <td>3.316598</td>\n",
              "      <td>103.066388</td>\n",
              "      <td>0.377927</td>\n",
              "      <td>380</td>\n",
              "    </tr>\n",
              "    <tr>\n",
              "      <th>3</th>\n",
              "      <td>2</td>\n",
              "      <td>1</td>\n",
              "      <td>612.962963</td>\n",
              "      <td>3.442593</td>\n",
              "      <td>112.746663</td>\n",
              "      <td>0.361653</td>\n",
              "      <td>300</td>\n",
              "    </tr>\n",
              "    <tr>\n",
              "      <th>4</th>\n",
              "      <td>3</td>\n",
              "      <td>0</td>\n",
              "      <td>562.365591</td>\n",
              "      <td>3.402258</td>\n",
              "      <td>124.650798</td>\n",
              "      <td>0.379434</td>\n",
              "      <td>220</td>\n",
              "    </tr>\n",
              "    <tr>\n",
              "      <th>5</th>\n",
              "      <td>3</td>\n",
              "      <td>1</td>\n",
              "      <td>616.428571</td>\n",
              "      <td>3.534643</td>\n",
              "      <td>99.785484</td>\n",
              "      <td>0.399244</td>\n",
              "      <td>460</td>\n",
              "    </tr>\n",
              "    <tr>\n",
              "      <th>6</th>\n",
              "      <td>4</td>\n",
              "      <td>0</td>\n",
              "      <td>562.909091</td>\n",
              "      <td>3.291455</td>\n",
              "      <td>116.327646</td>\n",
              "      <td>0.369767</td>\n",
              "      <td>300</td>\n",
              "    </tr>\n",
              "    <tr>\n",
              "      <th>7</th>\n",
              "      <td>4</td>\n",
              "      <td>1</td>\n",
              "      <td>603.333333</td>\n",
              "      <td>3.441667</td>\n",
              "      <td>114.680056</td>\n",
              "      <td>0.297286</td>\n",
              "      <td>400</td>\n",
              "    </tr>\n",
              "  </tbody>\n",
              "</table>\n",
              "</div>"
            ],
            "text/plain": [
              "   rank admit    gre_mean  gpa_mean     gre_std   gpa_std  gre\n",
              "0     1     0  582.857143  3.345714  126.574737  0.375445  340\n",
              "1     1     1  636.363636  3.544242  110.618098  0.385511  460\n",
              "2     2     0  586.597938  3.316598  103.066388  0.377927  380\n",
              "3     2     1  612.962963  3.442593  112.746663  0.361653  300\n",
              "4     3     0  562.365591  3.402258  124.650798  0.379434  220\n",
              "5     3     1  616.428571  3.534643   99.785484  0.399244  460\n",
              "6     4     0  562.909091  3.291455  116.327646  0.369767  300\n",
              "7     4     1  603.333333  3.441667  114.680056  0.297286  400"
            ]
          },
          "metadata": {
            "tags": []
          },
          "execution_count": 209
        }
      ]
    },
    {
      "metadata": {
        "id": "jdMTalYEHiAi",
        "colab_type": "text"
      },
      "cell_type": "markdown",
      "source": [
        "### 06-3 Rolling\n"
      ]
    },
    {
      "metadata": {
        "id": "Jpn93abYH_1j",
        "colab_type": "code",
        "colab": {}
      },
      "cell_type": "code",
      "source": [
        "import pandas as pd"
      ],
      "execution_count": 0,
      "outputs": []
    },
    {
      "metadata": {
        "id": "6XZbGn8AIMz7",
        "colab_type": "code",
        "colab": {
          "base_uri": "https://localhost:8080/",
          "height": 195
        },
        "outputId": "797fe99d-b608-4cc7-dd4e-5b70e35d2e4d"
      },
      "cell_type": "code",
      "source": [
        "stock = pd.read_csv('https://raw.githubusercontent.com/RayleighKim/Example_datasets/master/Stock_Edwards_Lifesciences_corporation.csv')\n",
        "stock.head()"
      ],
      "execution_count": 191,
      "outputs": [
        {
          "output_type": "execute_result",
          "data": {
            "text/html": [
              "<div>\n",
              "<style scoped>\n",
              "    .dataframe tbody tr th:only-of-type {\n",
              "        vertical-align: middle;\n",
              "    }\n",
              "\n",
              "    .dataframe tbody tr th {\n",
              "        vertical-align: top;\n",
              "    }\n",
              "\n",
              "    .dataframe thead th {\n",
              "        text-align: right;\n",
              "    }\n",
              "</style>\n",
              "<table border=\"1\" class=\"dataframe\">\n",
              "  <thead>\n",
              "    <tr style=\"text-align: right;\">\n",
              "      <th></th>\n",
              "      <th>Date</th>\n",
              "      <th>Open</th>\n",
              "      <th>High</th>\n",
              "      <th>Low</th>\n",
              "      <th>Close</th>\n",
              "      <th>Adj_Close</th>\n",
              "      <th>Volume</th>\n",
              "    </tr>\n",
              "  </thead>\n",
              "  <tbody>\n",
              "    <tr>\n",
              "      <th>0</th>\n",
              "      <td>2000/3/27</td>\n",
              "      <td>3.812500</td>\n",
              "      <td>4.156250</td>\n",
              "      <td>3.812500</td>\n",
              "      <td>4.125000</td>\n",
              "      <td>4.125000</td>\n",
              "      <td>3675600</td>\n",
              "    </tr>\n",
              "    <tr>\n",
              "      <th>1</th>\n",
              "      <td>2000/3/28</td>\n",
              "      <td>4.125000</td>\n",
              "      <td>4.125000</td>\n",
              "      <td>4.000000</td>\n",
              "      <td>4.015625</td>\n",
              "      <td>4.015625</td>\n",
              "      <td>1077600</td>\n",
              "    </tr>\n",
              "    <tr>\n",
              "      <th>2</th>\n",
              "      <td>2000/3/29</td>\n",
              "      <td>4.000000</td>\n",
              "      <td>4.031250</td>\n",
              "      <td>3.953125</td>\n",
              "      <td>4.000000</td>\n",
              "      <td>4.000000</td>\n",
              "      <td>437200</td>\n",
              "    </tr>\n",
              "    <tr>\n",
              "      <th>3</th>\n",
              "      <td>2000/3/30</td>\n",
              "      <td>4.000000</td>\n",
              "      <td>4.000000</td>\n",
              "      <td>3.843750</td>\n",
              "      <td>3.843750</td>\n",
              "      <td>3.843750</td>\n",
              "      <td>1883600</td>\n",
              "    </tr>\n",
              "    <tr>\n",
              "      <th>4</th>\n",
              "      <td>2000/3/31</td>\n",
              "      <td>3.734375</td>\n",
              "      <td>3.734375</td>\n",
              "      <td>3.390625</td>\n",
              "      <td>3.390625</td>\n",
              "      <td>3.390625</td>\n",
              "      <td>7931600</td>\n",
              "    </tr>\n",
              "  </tbody>\n",
              "</table>\n",
              "</div>"
            ],
            "text/plain": [
              "        Date      Open      High       Low     Close  Adj_Close   Volume\n",
              "0  2000/3/27  3.812500  4.156250  3.812500  4.125000   4.125000  3675600\n",
              "1  2000/3/28  4.125000  4.125000  4.000000  4.015625   4.015625  1077600\n",
              "2  2000/3/29  4.000000  4.031250  3.953125  4.000000   4.000000   437200\n",
              "3  2000/3/30  4.000000  4.000000  3.843750  3.843750   3.843750  1883600\n",
              "4  2000/3/31  3.734375  3.734375  3.390625  3.390625   3.390625  7931600"
            ]
          },
          "metadata": {
            "tags": []
          },
          "execution_count": 191
        }
      ]
    },
    {
      "metadata": {
        "id": "YavSi4xWIy5U",
        "colab_type": "text"
      },
      "cell_type": "markdown",
      "source": [
        "Date 와 Close 가격만을 남겨 보죠."
      ]
    },
    {
      "metadata": {
        "id": "VoMpIZBHI3i3",
        "colab_type": "code",
        "colab": {
          "base_uri": "https://localhost:8080/",
          "height": 195
        },
        "outputId": "d2ca0465-9359-4585-b109-9d4071dbd98b"
      },
      "cell_type": "code",
      "source": [
        "stock = stock[['Date', 'Close']]\n",
        "stock.head()"
      ],
      "execution_count": 194,
      "outputs": [
        {
          "output_type": "execute_result",
          "data": {
            "text/html": [
              "<div>\n",
              "<style scoped>\n",
              "    .dataframe tbody tr th:only-of-type {\n",
              "        vertical-align: middle;\n",
              "    }\n",
              "\n",
              "    .dataframe tbody tr th {\n",
              "        vertical-align: top;\n",
              "    }\n",
              "\n",
              "    .dataframe thead th {\n",
              "        text-align: right;\n",
              "    }\n",
              "</style>\n",
              "<table border=\"1\" class=\"dataframe\">\n",
              "  <thead>\n",
              "    <tr style=\"text-align: right;\">\n",
              "      <th></th>\n",
              "      <th>Date</th>\n",
              "      <th>Close</th>\n",
              "    </tr>\n",
              "  </thead>\n",
              "  <tbody>\n",
              "    <tr>\n",
              "      <th>0</th>\n",
              "      <td>2000/3/27</td>\n",
              "      <td>4.125000</td>\n",
              "    </tr>\n",
              "    <tr>\n",
              "      <th>1</th>\n",
              "      <td>2000/3/28</td>\n",
              "      <td>4.015625</td>\n",
              "    </tr>\n",
              "    <tr>\n",
              "      <th>2</th>\n",
              "      <td>2000/3/29</td>\n",
              "      <td>4.000000</td>\n",
              "    </tr>\n",
              "    <tr>\n",
              "      <th>3</th>\n",
              "      <td>2000/3/30</td>\n",
              "      <td>3.843750</td>\n",
              "    </tr>\n",
              "    <tr>\n",
              "      <th>4</th>\n",
              "      <td>2000/3/31</td>\n",
              "      <td>3.390625</td>\n",
              "    </tr>\n",
              "  </tbody>\n",
              "</table>\n",
              "</div>"
            ],
            "text/plain": [
              "        Date     Close\n",
              "0  2000/3/27  4.125000\n",
              "1  2000/3/28  4.015625\n",
              "2  2000/3/29  4.000000\n",
              "3  2000/3/30  3.843750\n",
              "4  2000/3/31  3.390625"
            ]
          },
          "metadata": {
            "tags": []
          },
          "execution_count": 194
        }
      ]
    },
    {
      "metadata": {
        "id": "wob-9-ynKBLD",
        "colab_type": "text"
      },
      "cell_type": "markdown",
      "source": [
        "기준일 포함하여 과거 3일의 평균을 데이터 프레임에 붙여봅시다."
      ]
    },
    {
      "metadata": {
        "id": "jOVuKQfWJxKD",
        "colab_type": "code",
        "colab": {
          "base_uri": "https://localhost:8080/",
          "height": 343
        },
        "outputId": "b9148956-2048-4835-9df1-afb84faf93b8"
      },
      "cell_type": "code",
      "source": [
        "stock['Close_MA_3'] = stock['Close'].rolling(3).mean()\n",
        "stock.head(10)"
      ],
      "execution_count": 196,
      "outputs": [
        {
          "output_type": "execute_result",
          "data": {
            "text/html": [
              "<div>\n",
              "<style scoped>\n",
              "    .dataframe tbody tr th:only-of-type {\n",
              "        vertical-align: middle;\n",
              "    }\n",
              "\n",
              "    .dataframe tbody tr th {\n",
              "        vertical-align: top;\n",
              "    }\n",
              "\n",
              "    .dataframe thead th {\n",
              "        text-align: right;\n",
              "    }\n",
              "</style>\n",
              "<table border=\"1\" class=\"dataframe\">\n",
              "  <thead>\n",
              "    <tr style=\"text-align: right;\">\n",
              "      <th></th>\n",
              "      <th>Date</th>\n",
              "      <th>Close</th>\n",
              "      <th>Close_MA_3</th>\n",
              "    </tr>\n",
              "  </thead>\n",
              "  <tbody>\n",
              "    <tr>\n",
              "      <th>0</th>\n",
              "      <td>2000/3/27</td>\n",
              "      <td>4.125000</td>\n",
              "      <td>NaN</td>\n",
              "    </tr>\n",
              "    <tr>\n",
              "      <th>1</th>\n",
              "      <td>2000/3/28</td>\n",
              "      <td>4.015625</td>\n",
              "      <td>NaN</td>\n",
              "    </tr>\n",
              "    <tr>\n",
              "      <th>2</th>\n",
              "      <td>2000/3/29</td>\n",
              "      <td>4.000000</td>\n",
              "      <td>4.046875</td>\n",
              "    </tr>\n",
              "    <tr>\n",
              "      <th>3</th>\n",
              "      <td>2000/3/30</td>\n",
              "      <td>3.843750</td>\n",
              "      <td>3.953125</td>\n",
              "    </tr>\n",
              "    <tr>\n",
              "      <th>4</th>\n",
              "      <td>2000/3/31</td>\n",
              "      <td>3.390625</td>\n",
              "      <td>3.744792</td>\n",
              "    </tr>\n",
              "    <tr>\n",
              "      <th>5</th>\n",
              "      <td>2000/4/3</td>\n",
              "      <td>3.437500</td>\n",
              "      <td>3.557292</td>\n",
              "    </tr>\n",
              "    <tr>\n",
              "      <th>6</th>\n",
              "      <td>2000/4/4</td>\n",
              "      <td>3.500000</td>\n",
              "      <td>3.442708</td>\n",
              "    </tr>\n",
              "    <tr>\n",
              "      <th>7</th>\n",
              "      <td>2000/4/5</td>\n",
              "      <td>3.484375</td>\n",
              "      <td>3.473958</td>\n",
              "    </tr>\n",
              "    <tr>\n",
              "      <th>8</th>\n",
              "      <td>2000/4/6</td>\n",
              "      <td>3.578125</td>\n",
              "      <td>3.520833</td>\n",
              "    </tr>\n",
              "    <tr>\n",
              "      <th>9</th>\n",
              "      <td>2000/4/7</td>\n",
              "      <td>3.609375</td>\n",
              "      <td>3.557292</td>\n",
              "    </tr>\n",
              "  </tbody>\n",
              "</table>\n",
              "</div>"
            ],
            "text/plain": [
              "        Date     Close  Close_MA_3\n",
              "0  2000/3/27  4.125000         NaN\n",
              "1  2000/3/28  4.015625         NaN\n",
              "2  2000/3/29  4.000000    4.046875\n",
              "3  2000/3/30  3.843750    3.953125\n",
              "4  2000/3/31  3.390625    3.744792\n",
              "5   2000/4/3  3.437500    3.557292\n",
              "6   2000/4/4  3.500000    3.442708\n",
              "7   2000/4/5  3.484375    3.473958\n",
              "8   2000/4/6  3.578125    3.520833\n",
              "9   2000/4/7  3.609375    3.557292"
            ]
          },
          "metadata": {
            "tags": []
          },
          "execution_count": 196
        }
      ]
    },
    {
      "metadata": {
        "id": "DwiHFEqoJ8Fw",
        "colab_type": "text"
      },
      "cell_type": "markdown",
      "source": [
        "기준일 포함하여 과거 3일 중 최대값은 어떨까요?"
      ]
    },
    {
      "metadata": {
        "id": "RM71ihOhKQuN",
        "colab_type": "code",
        "colab": {
          "base_uri": "https://localhost:8080/",
          "height": 343
        },
        "outputId": "8e9ebf8a-da2e-4ef3-e724-76c86e72e241"
      },
      "cell_type": "code",
      "source": [
        "stock['Close_MM_3'] = stock['Close'].rolling(3).max()\n",
        "stock.head(10)"
      ],
      "execution_count": 197,
      "outputs": [
        {
          "output_type": "execute_result",
          "data": {
            "text/html": [
              "<div>\n",
              "<style scoped>\n",
              "    .dataframe tbody tr th:only-of-type {\n",
              "        vertical-align: middle;\n",
              "    }\n",
              "\n",
              "    .dataframe tbody tr th {\n",
              "        vertical-align: top;\n",
              "    }\n",
              "\n",
              "    .dataframe thead th {\n",
              "        text-align: right;\n",
              "    }\n",
              "</style>\n",
              "<table border=\"1\" class=\"dataframe\">\n",
              "  <thead>\n",
              "    <tr style=\"text-align: right;\">\n",
              "      <th></th>\n",
              "      <th>Date</th>\n",
              "      <th>Close</th>\n",
              "      <th>Close_MA_3</th>\n",
              "      <th>Close_MM_3</th>\n",
              "    </tr>\n",
              "  </thead>\n",
              "  <tbody>\n",
              "    <tr>\n",
              "      <th>0</th>\n",
              "      <td>2000/3/27</td>\n",
              "      <td>4.125000</td>\n",
              "      <td>NaN</td>\n",
              "      <td>NaN</td>\n",
              "    </tr>\n",
              "    <tr>\n",
              "      <th>1</th>\n",
              "      <td>2000/3/28</td>\n",
              "      <td>4.015625</td>\n",
              "      <td>NaN</td>\n",
              "      <td>NaN</td>\n",
              "    </tr>\n",
              "    <tr>\n",
              "      <th>2</th>\n",
              "      <td>2000/3/29</td>\n",
              "      <td>4.000000</td>\n",
              "      <td>4.046875</td>\n",
              "      <td>4.125000</td>\n",
              "    </tr>\n",
              "    <tr>\n",
              "      <th>3</th>\n",
              "      <td>2000/3/30</td>\n",
              "      <td>3.843750</td>\n",
              "      <td>3.953125</td>\n",
              "      <td>4.015625</td>\n",
              "    </tr>\n",
              "    <tr>\n",
              "      <th>4</th>\n",
              "      <td>2000/3/31</td>\n",
              "      <td>3.390625</td>\n",
              "      <td>3.744792</td>\n",
              "      <td>4.000000</td>\n",
              "    </tr>\n",
              "    <tr>\n",
              "      <th>5</th>\n",
              "      <td>2000/4/3</td>\n",
              "      <td>3.437500</td>\n",
              "      <td>3.557292</td>\n",
              "      <td>3.843750</td>\n",
              "    </tr>\n",
              "    <tr>\n",
              "      <th>6</th>\n",
              "      <td>2000/4/4</td>\n",
              "      <td>3.500000</td>\n",
              "      <td>3.442708</td>\n",
              "      <td>3.500000</td>\n",
              "    </tr>\n",
              "    <tr>\n",
              "      <th>7</th>\n",
              "      <td>2000/4/5</td>\n",
              "      <td>3.484375</td>\n",
              "      <td>3.473958</td>\n",
              "      <td>3.500000</td>\n",
              "    </tr>\n",
              "    <tr>\n",
              "      <th>8</th>\n",
              "      <td>2000/4/6</td>\n",
              "      <td>3.578125</td>\n",
              "      <td>3.520833</td>\n",
              "      <td>3.578125</td>\n",
              "    </tr>\n",
              "    <tr>\n",
              "      <th>9</th>\n",
              "      <td>2000/4/7</td>\n",
              "      <td>3.609375</td>\n",
              "      <td>3.557292</td>\n",
              "      <td>3.609375</td>\n",
              "    </tr>\n",
              "  </tbody>\n",
              "</table>\n",
              "</div>"
            ],
            "text/plain": [
              "        Date     Close  Close_MA_3  Close_MM_3\n",
              "0  2000/3/27  4.125000         NaN         NaN\n",
              "1  2000/3/28  4.015625         NaN         NaN\n",
              "2  2000/3/29  4.000000    4.046875    4.125000\n",
              "3  2000/3/30  3.843750    3.953125    4.015625\n",
              "4  2000/3/31  3.390625    3.744792    4.000000\n",
              "5   2000/4/3  3.437500    3.557292    3.843750\n",
              "6   2000/4/4  3.500000    3.442708    3.500000\n",
              "7   2000/4/5  3.484375    3.473958    3.500000\n",
              "8   2000/4/6  3.578125    3.520833    3.578125\n",
              "9   2000/4/7  3.609375    3.557292    3.609375"
            ]
          },
          "metadata": {
            "tags": []
          },
          "execution_count": 197
        }
      ]
    },
    {
      "metadata": {
        "id": "eJng0rEWKWTA",
        "colab_type": "text"
      },
      "cell_type": "markdown",
      "source": [
        "기준일을 포함하지 않은, 과거 3일의 평균을 붙인다면?"
      ]
    },
    {
      "metadata": {
        "id": "Y1Hc3ZscKdSh",
        "colab_type": "code",
        "colab": {
          "base_uri": "https://localhost:8080/",
          "height": 195
        },
        "outputId": "ea2a6d31-6a61-40e0-987a-6329339a98bb"
      },
      "cell_type": "code",
      "source": [
        "stock['Close_MA_3_lag1'] = stock['Close_MA_3'].shift()\n",
        "stock.head()"
      ],
      "execution_count": 201,
      "outputs": [
        {
          "output_type": "execute_result",
          "data": {
            "text/html": [
              "<div>\n",
              "<style scoped>\n",
              "    .dataframe tbody tr th:only-of-type {\n",
              "        vertical-align: middle;\n",
              "    }\n",
              "\n",
              "    .dataframe tbody tr th {\n",
              "        vertical-align: top;\n",
              "    }\n",
              "\n",
              "    .dataframe thead th {\n",
              "        text-align: right;\n",
              "    }\n",
              "</style>\n",
              "<table border=\"1\" class=\"dataframe\">\n",
              "  <thead>\n",
              "    <tr style=\"text-align: right;\">\n",
              "      <th></th>\n",
              "      <th>Date</th>\n",
              "      <th>Close</th>\n",
              "      <th>Close_MA_3</th>\n",
              "      <th>Close_MM_3</th>\n",
              "      <th>Close_MA_3_lag1</th>\n",
              "    </tr>\n",
              "  </thead>\n",
              "  <tbody>\n",
              "    <tr>\n",
              "      <th>0</th>\n",
              "      <td>2000/3/27</td>\n",
              "      <td>4.125000</td>\n",
              "      <td>NaN</td>\n",
              "      <td>NaN</td>\n",
              "      <td>NaN</td>\n",
              "    </tr>\n",
              "    <tr>\n",
              "      <th>1</th>\n",
              "      <td>2000/3/28</td>\n",
              "      <td>4.015625</td>\n",
              "      <td>NaN</td>\n",
              "      <td>NaN</td>\n",
              "      <td>NaN</td>\n",
              "    </tr>\n",
              "    <tr>\n",
              "      <th>2</th>\n",
              "      <td>2000/3/29</td>\n",
              "      <td>4.000000</td>\n",
              "      <td>4.046875</td>\n",
              "      <td>4.125000</td>\n",
              "      <td>NaN</td>\n",
              "    </tr>\n",
              "    <tr>\n",
              "      <th>3</th>\n",
              "      <td>2000/3/30</td>\n",
              "      <td>3.843750</td>\n",
              "      <td>3.953125</td>\n",
              "      <td>4.015625</td>\n",
              "      <td>4.046875</td>\n",
              "    </tr>\n",
              "    <tr>\n",
              "      <th>4</th>\n",
              "      <td>2000/3/31</td>\n",
              "      <td>3.390625</td>\n",
              "      <td>3.744792</td>\n",
              "      <td>4.000000</td>\n",
              "      <td>3.953125</td>\n",
              "    </tr>\n",
              "  </tbody>\n",
              "</table>\n",
              "</div>"
            ],
            "text/plain": [
              "        Date     Close  Close_MA_3  Close_MM_3  Close_MA_3_lag1\n",
              "0  2000/3/27  4.125000         NaN         NaN              NaN\n",
              "1  2000/3/28  4.015625         NaN         NaN              NaN\n",
              "2  2000/3/29  4.000000    4.046875    4.125000              NaN\n",
              "3  2000/3/30  3.843750    3.953125    4.015625         4.046875\n",
              "4  2000/3/31  3.390625    3.744792    4.000000         3.953125"
            ]
          },
          "metadata": {
            "tags": []
          },
          "execution_count": 201
        }
      ]
    },
    {
      "metadata": {
        "id": "4aefGZ-GInlR",
        "colab_type": "text"
      },
      "cell_type": "markdown",
      "source": [
        "실습!!\n",
        "\n",
        "stock 옆에, 과거 4일의 표준편차를 붙이시오!"
      ]
    },
    {
      "metadata": {
        "id": "b46u7om7LInB",
        "colab_type": "code",
        "colab": {
          "base_uri": "https://localhost:8080/",
          "height": 134
        },
        "outputId": "76acd934-a202-4fab-992e-5f529b44f081"
      },
      "cell_type": "code",
      "source": [
        "stock['Close_MS_3'] = ## Your Code\n",
        "    \n",
        "stock.head()"
      ],
      "execution_count": 204,
      "outputs": [
        {
          "output_type": "error",
          "ename": "SyntaxError",
          "evalue": "ignored",
          "traceback": [
            "\u001b[0;36m  File \u001b[0;32m\"<ipython-input-204-9242155ff664>\"\u001b[0;36m, line \u001b[0;32m2\u001b[0m\n\u001b[0;31m    stock['Close_MS_3'] = ## Your Code\u001b[0m\n\u001b[0m                                      ^\u001b[0m\n\u001b[0;31mSyntaxError\u001b[0m\u001b[0;31m:\u001b[0m invalid syntax\n"
          ]
        }
      ]
    },
    {
      "metadata": {
        "id": "AL6JqUCRLQug",
        "colab_type": "code",
        "colab": {}
      },
      "cell_type": "code",
      "source": [
        ""
      ],
      "execution_count": 0,
      "outputs": []
    }
  ]
}